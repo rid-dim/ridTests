{
 "cells": [
  {
   "cell_type": "markdown",
   "metadata": {},
   "source": [
    "### Just an example/idea how SAFE Datatypes in Python could be defined for easy creation of 'empty containers' to test the callback-functions one wants to pass to a library function"
   ]
  },
  {
   "cell_type": "code",
   "execution_count": 1,
   "metadata": {
    "collapsed": true
   },
   "outputs": [],
   "source": [
    "from cffi import FFI\n",
    "ffi = FFI()"
   ]
  },
  {
   "cell_type": "code",
   "execution_count": 2,
   "metadata": {
    "collapsed": true
   },
   "outputs": [],
   "source": [
    "datatypes='''\n",
    "typedef int int32_t;\n",
    "typedef struct {\n",
    "    int32_t error_code;\n",
    "    char* description;\n",
    "} FfiResult;\n",
    "typedef struct {\n",
    "    void* core_tx;\n",
    "    void* _core_joiner;\n",
    "} Authenticator;\n",
    "'''"
   ]
  },
  {
   "cell_type": "code",
   "execution_count": 3,
   "metadata": {
    "collapsed": true
   },
   "outputs": [],
   "source": [
    "ffi.cdef(datatypes)"
   ]
  },
  {
   "cell_type": "code",
   "execution_count": 8,
   "metadata": {
    "collapsed": true
   },
   "outputs": [],
   "source": [
    "class SafeUtils:\n",
    "    def __init__(self, myStr=b'', num=0):\n",
    "        self.datattypes=datatypes\n",
    "            \n",
    "    def getCString(cString, maxStringLength=int(1e6)):\n",
    "        foundEndOfString=False\n",
    "        for stringPosition in range(maxStringLength):\n",
    "            if cString[stringPosition] == b'\\x00':\n",
    "                completeString = ffi.unpack(cString,stringPosition)\n",
    "                break\n",
    "        return completeString\n",
    "    "
   ]
  },
  {
   "cell_type": "code",
   "execution_count": 5,
   "metadata": {
    "collapsed": true
   },
   "outputs": [],
   "source": [
    "class FfiRes:\n",
    "    def __init__(self, myStr=b'', num=0):\n",
    "        if type(myStr) == bytes:\n",
    "            self._description = ffi.new('char[]',myStr)\n",
    "        else:\n",
    "            print('description is not datat type bytes')\n",
    "            self._description = ffi.new('char[]',b'')\n",
    "        self.description = myStr\n",
    "        self.error_code = num\n",
    "        self.entity = ffi.new('FfiResult*',[self.error_code,self._description])\n",
    "        \n",
    "    def getNum(self):\n",
    "        return self.entity.error_code\n",
    "    \n",
    "    def getString(self):\n",
    "        return SafeUtils.getCString(self.entity.description)"
   ]
  },
  {
   "cell_type": "code",
   "execution_count": 6,
   "metadata": {
    "collapsed": true
   },
   "outputs": [],
   "source": [
    "class Authenticator:\n",
    "    def __init__(self):\n",
    "        self.core_tx = ffi.new_handle(self)\n",
    "        self._core_joiner = ffi.newhandle(self)\n",
    "        self.entity = ffi.new('FfiResult *',[self.core_tx,self.self._core_joiner])"
   ]
  },
  {
   "cell_type": "code",
   "execution_count": 7,
   "metadata": {
    "collapsed": true
   },
   "outputs": [],
   "source": [
    "class cstr:\n",
    "    def __init__(self,myStringToCreate):\n",
    "        self.entity = ffi.new('char[]',myStringToCreate)"
   ]
  },
  {
   "cell_type": "code",
   "execution_count": null,
   "metadata": {
    "collapsed": true
   },
   "outputs": [],
   "source": []
  },
  {
   "cell_type": "code",
   "execution_count": null,
   "metadata": {
    "collapsed": true
   },
   "outputs": [],
   "source": []
  }
 ],
 "metadata": {
  "kernelspec": {
   "display_name": "Python 3",
   "language": "python",
   "name": "python3"
  },
  "language_info": {
   "codemirror_mode": {
    "name": "ipython",
    "version": 3
   },
   "file_extension": ".py",
   "mimetype": "text/x-python",
   "name": "python",
   "nbconvert_exporter": "python",
   "pygments_lexer": "ipython3",
   "version": "3.4.5"
  }
 },
 "nbformat": 4,
 "nbformat_minor": 2
}
