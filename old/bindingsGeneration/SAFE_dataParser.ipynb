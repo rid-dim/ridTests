{
 "cells": [
  {
   "cell_type": "markdown",
   "metadata": {},
   "source": [
    "### First of all - we need to parse the headers and extract declarations for functions and data types"
   ]
  },
  {
   "cell_type": "code",
   "execution_count": 53,
   "metadata": {
    "collapsed": true
   },
   "outputs": [],
   "source": [
    "import unittest\n",
    "import cffi\n",
    "import importlib\n",
    "import pycparser\n",
    "import subprocess"
   ]
  },
  {
   "cell_type": "code",
   "execution_count": 1,
   "metadata": {
    "collapsed": true
   },
   "outputs": [],
   "source": [
    "import subprocess"
   ]
  },
  {
   "cell_type": "markdown",
   "metadata": {
    "collapsed": true
   },
   "source": [
    "def preprocess(source):\n",
    "    return subprocess.call(['gcc', '-E', '-P', '-'],\n",
    "            input=source, stdout=subprocess.PIPE,\n",
    "            universal_newlines=True, check=True).stdout"
   ]
  },
  {
   "cell_type": "code",
   "execution_count": 180,
   "metadata": {
    "collapsed": true
   },
   "outputs": [],
   "source": [
    "def preprocess(source):\n",
    "    return subprocess.run(['gcc', '-E', '-P', '-'],\n",
    "                          input=source, stdout=subprocess.PIPE,\n",
    "                          universal_newlines=True, check=True).stdout"
   ]
  },
  {
   "cell_type": "code",
   "execution_count": 181,
   "metadata": {
    "collapsed": false
   },
   "outputs": [
    {
     "name": "stdout",
     "output_type": "stream",
     "text": [
      "safe_app.h  safe_core.h\r\n"
     ]
    }
   ],
   "source": [
    "ls *.h"
   ]
  },
  {
   "cell_type": "code",
   "execution_count": 182,
   "metadata": {
    "collapsed": true
   },
   "outputs": [],
   "source": [
    "filename='safe_app'"
   ]
  },
  {
   "cell_type": "code",
   "execution_count": 183,
   "metadata": {
    "collapsed": true
   },
   "outputs": [],
   "source": [
    "with open(filename + '.h') as f:\n",
    "    fileContent=f.read()"
   ]
  },
  {
   "cell_type": "code",
   "execution_count": 185,
   "metadata": {
    "collapsed": false
   },
   "outputs": [
    {
     "name": "stdout",
     "output_type": "stream",
     "text": [
      "typedef signed char int8_t;\n",
      "typedef short int int16_t;\n",
      "typedef int int32_t;\n",
      "typedef long int int64_t;\n",
      "typedef unsigned char uint8_t;\n",
      "typedef unsigned short int uint16_t;\n",
      "typedef unsigned int uint32_t;\n",
      "typedef unsigned long int uint64_t;\n",
      "typedef signed char int_least8_t;\n",
      "typedef short int int_least16_t;\n",
      "typedef int int_least32_t;\n",
      "typedef long int int_least64_t;\n",
      "typedef unsigned char uint_least8_t;\n",
      "typedef unsigned short int uint_least16_t;\n",
      "typedef unsigned int uint_least32_t;\n",
      "typedef unsigned long int uint_least64_t;\n",
      "typedef signed char int_fast8_t;\n",
      "typedef long int int_fast16_t;\n",
      "typedef long int int_fast32_t;\n",
      "typedef long int int_fast64_t;\n",
      "typedef unsigned char uint_fast8_t;\n",
      "typedef unsigned long int uint_fast16_t;\n",
      "typedef unsigned long int uint_fast32_t;\n",
      "typedef unsigned long int uint_fast64_t;\n",
      "typedef long int intptr_t;\n",
      "typedef unsigned long int uintptr_t;\n",
      "typedef long int intmax_t;\n",
      "typedef unsigned long int uintmax_t;\n",
      "void access_container_refresh_access_info(App const* app, void* user_data, void (*o_cb)(void* user_data, FfiResult const* result));\n",
      "void access_container_fetch(App const* app, void* user_data, void (*o_cb)(void* user_data, FfiResult const* result, FfiContainerPermissions const* container_perms, uintptr_t container_perms_len));\n",
      "void access_container_get_container_mdata_info(App const* app, char const* name, void* user_data, void (*o_cb)(void* user_data, FfiResult const* result, FfiMDataInfo const* mdata_info));\n",
      "void cipher_opt_new_plaintext(App const* app, void* user_data, void (*o_cb)(void* user_data, FfiResult const* result, CipherOptHandle handle));\n",
      "void cipher_opt_new_symmetric(App const* app, void* user_data, void (*o_cb)(void* user_data, FfiResult const* result, CipherOptHandle handle));\n",
      "void cipher_opt_new_asymmetric(App const* app, EncryptPubKeyHandle peer_encrypt_key_h, void* user_data, void (*o_cb)(void* user_data, FfiResult const* result, CipherOptHandle handle));\n",
      "void cipher_opt_free(App const* app, CipherOptHandle handle, void* user_data, void (*o_cb)(void* user_data, FfiResult const* result));\n",
      "void app_pub_sign_key(App const* app, void* user_data, void (*o_cb)(void* user_data, FfiResult const* result, SignPubKeyHandle handle));\n",
      "void sign_generate_key_pair(App const* app, void* user_data, void (*o_cb)(void* user_data, FfiResult const* result, SignPubKeyHandle pk_h, SignSecKeyHandle sk_h));\n",
      "void sign_pub_key_new(App const* app, SignPublicKey const* data, void* user_data, void (*o_cb)(void* user_data, FfiResult const* result, SignPubKeyHandle handle));\n",
      "void sign_pub_key_get(App const* app, SignPubKeyHandle handle, void* user_data, void (*o_cb)(void* user_data, FfiResult const* result, SignPublicKey const* pub_sign_key));\n",
      "void sign_pub_key_free(App const* app, SignPubKeyHandle handle, void* user_data, void (*o_cb)(void* user_data, FfiResult const* result));\n",
      "void sign_sec_key_new(App const* app, SignSecretKey const* data, void* user_data, void (*o_cb)(void* user_data, FfiResult const* result, SignSecKeyHandle handle));\n",
      "void sign_sec_key_get(App const* app, SignSecKeyHandle handle, void* user_data, void (*o_cb)(void* user_data, FfiResult const* result, SignSecretKey const* pub_sign_key));\n",
      "void sign_sec_key_free(App const* app, SignSecKeyHandle handle, void* user_data, void (*o_cb)(void* user_data, FfiResult const* result));\n",
      "void app_pub_enc_key(App const* app, void* user_data, void (*o_cb)(void* user_data, FfiResult const* result, EncryptPubKeyHandle pk_h));\n",
      "void enc_generate_key_pair(App const* app, void* user_data, void (*o_cb)(void* user_data, FfiResult const* result, EncryptPubKeyHandle pk_h, EncryptSecKeyHandle sk_h));\n",
      "void enc_pub_key_new(App const* app, AsymPublicKey const* data, void* user_data, void (*o_cb)(void* user_data, FfiResult const* result, EncryptPubKeyHandle pk_h));\n",
      "void enc_pub_key_get(App const* app, EncryptPubKeyHandle handle, void* user_data, void (*o_cb)(void* user_data, FfiResult const* result, AsymPublicKey const* pub_enc_key));\n",
      "void enc_pub_key_free(App const* app, EncryptPubKeyHandle handle, void* user_data, void (*o_cb)(void* user_data, FfiResult const* result));\n",
      "void enc_secret_key_new(App const* app, AsymSecretKey const* data, void* user_data, void (*o_cb)(void* user_data, FfiResult const* result, EncryptSecKeyHandle sk_h));\n",
      "void enc_secret_key_get(App const* app, EncryptSecKeyHandle handle, void* user_data, void (*o_cb)(void* user_data, FfiResult const* result, AsymSecretKey const* sec_enc_key));\n",
      "void enc_secret_key_free(App const* app, EncryptSecKeyHandle handle, void* user_data, void (*o_cb)(void* user_data, FfiResult const* result));\n",
      "void sign(App const* app, uint8_t const* data, uintptr_t len, SignSecKeyHandle sign_sk_h, void* user_data, void (*o_cb)(void* user_data, FfiResult const* result, uint8_t const* signed_data, uintptr_t signed_data_len));\n",
      "void verify(App const* app, uint8_t const* signed_data, uintptr_t len, SignPubKeyHandle sign_pk_h, void* user_data, void (*o_cb)(void* user_data, FfiResult const* result, uint8_t const* verified_data, uintptr_t verified_data_len));\n",
      "void encrypt(App const* app, uint8_t const* data, uintptr_t len, EncryptPubKeyHandle pk_h, EncryptSecKeyHandle sk_h, void* user_data, void (*o_cb)(void* user_data, FfiResult const* result, uint8_t const* ciphertext, uintptr_t ciphertext_len));\n",
      "void decrypt(App const* app, uint8_t const* data, uintptr_t len, EncryptPubKeyHandle pk_h, EncryptSecKeyHandle sk_h, void* user_data, void (*o_cb)(void* user_data, FfiResult const* result, uint8_t const* plaintext, uintptr_t plaintext_len));\n",
      "void encrypt_sealed_box(App const* app, uint8_t const* data, uintptr_t len, EncryptPubKeyHandle pk_h, void* user_data, void (*o_cb)(void* user_data, FfiResult const* result, uint8_t const* ciphertext, uintptr_t ciphertext_len));\n",
      "void decrypt_sealed_box(App const* app, uint8_t const* data, uintptr_t len, EncryptPubKeyHandle pk_h, EncryptSecKeyHandle sk_h, void* user_data, void (*o_cb)(void* user_data, FfiResult const* result, uint8_t const* plaintext, uintptr_t plaintext_len));\n",
      "void sha3_hash(uint8_t const* data, uintptr_t len, void* user_data, void (*o_cb)(void* user_data, FfiResult const* result, uint8_t const* hash, uintptr_t hash_len));\n",
      "void generate_nonce(void* user_data, void (*o_cb)(void* user_data, FfiResult const* result, AsymNonce const* nonce));\n",
      "typedef SelfEncryptorWriterHandle SEWriterHandle;\n",
      "typedef SelfEncryptorReaderHandle SEReaderHandle;\n",
      "void idata_new_self_encryptor(App const* app, void* user_data, void (*o_cb)(void* user_data, FfiResult const* result, SEWriterHandle se_h));\n",
      "void idata_write_to_self_encryptor(App const* app, SEWriterHandle se_h, uint8_t const* data, uintptr_t data_len, void* user_data, void (*o_cb)(void* user_data, FfiResult const* result));\n",
      "void idata_close_self_encryptor(App const* app, SEWriterHandle se_h, CipherOptHandle cipher_opt_h, void* user_data, void (*o_cb)(void* user_data, FfiResult const* result, XorNameArray const* name));\n",
      "void idata_fetch_self_encryptor(App const* app, XorNameArray const* name, void* user_data, void (*o_cb)(void* user_data, FfiResult const* result, SEReaderHandle se_h));\n",
      "void idata_serialised_size(App const* app, XorNameArray const* name, void* user_data, void (*o_cb)(void* user_data, FfiResult const* result, uint64_t serialised_size));\n",
      "void idata_size(App const* app, SEReaderHandle se_h, void* user_data, void (*o_cb)(void* user_data, FfiResult const* result, uint64_t size));\n",
      "void idata_read_from_self_encryptor(App const* app, SEReaderHandle se_h, uint64_t from_pos, uint64_t len, void* user_data, void (*o_cb)(void* user_data, FfiResult const* result, uint8_t const* data, uintptr_t data_len));\n",
      "void idata_self_encryptor_writer_free(App const* app, SEWriterHandle handle, void* user_data, void (*o_cb)(void* user_data, FfiResult const* result));\n",
      "void idata_self_encryptor_reader_free(App const* app, SEReaderHandle handle, void* user_data, void (*o_cb)(void* user_data, FfiResult const* result));\n",
      "void encode_auth_req(FfiAuthReq const* req, void* user_data, void (*o_cb)(void* user_data, FfiResult const* result, uint32_t req_id, char const* encoded));\n",
      "void encode_containers_req(FfiContainersReq const* req, void* user_data, void (*o_cb)(void* user_data, FfiResult const* result, uint32_t req_id, char const* encoded));\n",
      "void encode_unregistered_req(uint8_t const* extra_data, uintptr_t extra_data_len, void* user_data, void (*o_cb)(void* user_data, FfiResult const* result, uint32_t req_id, char const* encoded));\n",
      "void encode_share_mdata_req(FfiShareMDataReq const* req, void* user_data, void (*o_cb)(void* user_data, FfiResult const* result, uint32_t req_id, char const* encoded));\n",
      "void decode_ipc_msg(char const* msg, void* user_data, void (*o_auth)(void* user_data, uint32_t req_id, FfiAuthGranted const* auth_granted), void (*o_unregistered)(void* user_data, uint32_t req_id, uint8_t const* serialised_cfg, uintptr_t serialised_cfg_len), void (*o_containers)(void* user_data, uint32_t req_id), void (*o_share_mdata)(void* user_data, uint32_t req_id), void (*o_revoked)(void* user_data), void (*o_err)(void* user_data, FfiResult const* result, uint32_t req_id));\n",
      "void app_init_logging(char const* output_file_name_override, void* user_data, void (*o_cb)(void* user_data, FfiResult const* result));\n",
      "void app_output_log_path(char const* output_file_name, void* user_data, void (*o_cb)(void* user_data, FfiResult const* result, char const* log_path));\n",
      "void mdata_info_new_private(XorNameArray const* name, uint64_t type_tag, SymSecretKey const* secret_key, SymNonce const* nonce, void* user_data, void (*o_cb)(void* user_data, FfiResult const* result, FfiMDataInfo const* mdata_info));\n",
      "void mdata_info_random_public(uint64_t type_tag, void* user_data, void (*o_cb)(void* user_data, FfiResult const* result, FfiMDataInfo const* mdata_info));\n",
      "void mdata_info_random_private(uint64_t type_tag, void* user_data, void (*o_cb)(void* user_data, FfiResult const* result, FfiMDataInfo const* mdata_info));\n",
      "void mdata_info_encrypt_entry_key(FfiMDataInfo const* info, uint8_t const* input, uintptr_t input_len, void* user_data, void (*o_cb)(void* user_data, FfiResult const* result, uint8_t const* enc_entry_key, uintptr_t enc_entry_key_len));\n",
      "void mdata_info_encrypt_entry_value(FfiMDataInfo const* info, uint8_t const* input, uintptr_t input_len, void* user_data, void (*o_cb)(void* user_data, FfiResult const* result, uint8_t const* enc_entry_value, uintptr_t enc_entry_value_len));\n",
      "void mdata_info_decrypt(FfiMDataInfo const* info, uint8_t const* input, uintptr_t input_len, void* user_data, void (*o_cb)(void* user_data, FfiResult const* result, uint8_t const* mdata_info_decrypt, uintptr_t mdata_info_decrypt_len));\n",
      "void mdata_info_serialise(FfiMDataInfo const* info, void* user_data, void (*o_cb)(void* user_data, FfiResult const* result, uint8_t const* encoded, uintptr_t encoded_len));\n",
      "void mdata_info_deserialise(uint8_t const* ptr, uintptr_t len, void* user_data, void (*o_cb)(void* user_data, FfiResult const* result, FfiMDataInfo const* mdata_info));\n",
      "void mdata_put(App const* app, FfiMDataInfo const* info, MDataPermissionsHandle permissions_h, MDataEntriesHandle entries_h, void* user_data, void (*o_cb)(void* user_data, FfiResult const* result));\n",
      "void mdata_get_version(App const* app, FfiMDataInfo const* info, void* user_data, void (*o_cb)(void* user_data, FfiResult const* result, uint64_t version));\n",
      "void mdata_serialised_size(App const* app, FfiMDataInfo const* info, void* user_data, void (*o_cb)(void* user_data, FfiResult const* result, uint64_t serialised_size));\n",
      "void mdata_get_value(App const* app, FfiMDataInfo const* info, uint8_t const* key, uintptr_t key_len, void* user_data, void (*o_cb)(void* user_data, FfiResult const* result, uint8_t const* content, uintptr_t content_len, uint64_t version));\n",
      "void mdata_entries(App const* app, FfiMDataInfo const* info, void* user_data, void (*o_cb)(void* user_data, FfiResult const* result, MDataEntriesHandle entries_h));\n",
      "void mdata_list_keys(App const* app, FfiMDataInfo const* info, void* user_data, void (*o_cb)(void* user_data, FfiResult const* result, FfiMDataKey const* keys, uintptr_t len));\n",
      "void mdata_list_values(App const* app, FfiMDataInfo const* info, void* user_data, void (*o_cb)(void* user_data, FfiResult const* result, FfiMDataValue const* values, uintptr_t len));\n",
      "void mdata_mutate_entries(App const* app, FfiMDataInfo const* info, MDataEntryActionsHandle actions_h, void* user_data, void (*o_cb)(void* user_data, FfiResult const* result));\n",
      "void mdata_list_permissions(App const* app, FfiMDataInfo const* info, void* user_data, void (*o_cb)(void* user_data, FfiResult const* result, MDataPermissionsHandle perm_h));\n",
      "void mdata_list_user_permissions(App const* app, FfiMDataInfo const* info, SignPubKeyHandle user_h, void* user_data, void (*o_cb)(void* user_data, FfiResult const* result, FfiPermissionSet const* perm_set));\n",
      "void mdata_set_user_permissions(App const* app, FfiMDataInfo const* info, SignPubKeyHandle user_h, FfiPermissionSet const* permission_set, uint64_t version, void* user_data, void (*o_cb)(void* user_data, FfiResult const* result));\n",
      "void mdata_del_user_permissions(App const* app, FfiMDataInfo const* info, SignPubKeyHandle user_h, uint64_t version, void* user_data, void (*o_cb)(void* user_data, FfiResult const* result));\n",
      "void mdata_entries_new(App const* app, void* user_data, void (*o_cb)(void* user_data, FfiResult const* result, MDataEntriesHandle entries_h));\n",
      "void mdata_entries_insert(App const* app, MDataEntriesHandle entries_h, uint8_t const* key, uintptr_t key_len, uint8_t const* value, uintptr_t value_len, void* user_data, void (*o_cb)(void* user_data, FfiResult const* result));\n",
      "void mdata_entries_len(App const* app, MDataEntriesHandle entries_h, void* user_data, void (*o_cb)(void* user_data, FfiResult const* result, uintptr_t len));\n",
      "void mdata_entries_get(App const* app, MDataEntriesHandle entries_h, uint8_t const* key, uintptr_t key_len, void* user_data, void (*o_cb)(void* user_data, FfiResult const* result, uint8_t const* content, uintptr_t content_len, uint64_t version));\n",
      "void mdata_list_entries(App const* app, MDataEntriesHandle entries_h, void* user_data, void (*o_cb)(void* user_data, FfiResult const* result, FfiMDataEntry const* entries, uintptr_t len));\n",
      "void mdata_entries_free(App const* app, MDataEntriesHandle entries_h, void* user_data, void (*o_cb)(void* user_data, FfiResult const* result));\n",
      "void mdata_entry_actions_new(App const* app, void* user_data, void (*o_cb)(void* user_data, FfiResult const* result, MDataEntryActionsHandle entry_actions_h));\n",
      "void mdata_entry_actions_insert(App const* app, MDataEntryActionsHandle actions_h, uint8_t const* key, uintptr_t key_len, uint8_t const* value, uintptr_t value_len, void* user_data, void (*o_cb)(void* user_data, FfiResult const* result));\n",
      "void mdata_entry_actions_update(App const* app, MDataEntryActionsHandle actions_h, uint8_t const* key, uintptr_t key_len, uint8_t const* value, uintptr_t value_len, uint64_t entry_version, void* user_data, void (*o_cb)(void* user_data, FfiResult const* result));\n",
      "void mdata_entry_actions_delete(App const* app, MDataEntryActionsHandle actions_h, uint8_t const* key, uintptr_t key_len, uint64_t entry_version, void* user_data, void (*o_cb)(void* user_data, FfiResult const* result));\n",
      "void mdata_entry_actions_free(App const* app, MDataEntryActionsHandle actions_h, void* user_data, void (*o_cb)(void* user_data, FfiResult const* result));\n",
      "void mdata_encode_metadata(MetadataResponse const* metadata, void* user_data, void (*o_cb)(void* user_data, FfiResult const* result, uint8_t const* encoded, uintptr_t encoded_len));\n",
      "typedef enum MDataAction {\n",
      " MDataAction_Insert,\n",
      " MDataAction_Update,\n",
      " MDataAction_Delete,\n",
      " MDataAction_ManagePermissions,\n",
      "} MDataAction;\n",
      "typedef struct UserPermissionSet {\n",
      " SignPubKeyHandle user_h;\n",
      " FfiPermissionSet perm_set;\n",
      "} UserPermissionSet;\n",
      "void mdata_permissions_new(App const* app, void* user_data, void (*o_cb)(void* user_data, FfiResult const* result, MDataPermissionsHandle perm_h));\n",
      "void mdata_permissions_len(App const* app, MDataPermissionsHandle permissions_h, void* user_data, void (*o_cb)(void* user_data, FfiResult const* result, uintptr_t size));\n",
      "void mdata_permissions_get(App const* app, MDataPermissionsHandle permissions_h, SignPubKeyHandle user_h, void* user_data, void (*o_cb)(void* user_data, FfiResult const* result, FfiPermissionSet const* perm_set));\n",
      "void mdata_list_permission_sets(App const* app, MDataPermissionsHandle permissions_h, void* user_data, void (*o_cb)(void* user_data, FfiResult const* result, UserPermissionSet const* user_perm_sets, uintptr_t len));\n",
      "void mdata_permissions_insert(App const* app, MDataPermissionsHandle permissions_h, SignPubKeyHandle user_h, FfiPermissionSet const* permission_set, void* user_data, void (*o_cb)(void* user_data, FfiResult const* result));\n",
      "void mdata_permissions_free(App const* app, MDataPermissionsHandle permissions_h, void* user_data, void (*o_cb)(void* user_data, FfiResult const* result));\n",
      "void dir_fetch_file(App const* app, FfiMDataInfo const* parent_info, char const* file_name, void* user_data, void (*o_cb)(void* user_data, FfiResult const* result, File const* file, uint64_t version));\n",
      "void dir_insert_file(App const* app, FfiMDataInfo const* parent_info, char const* file_name, File const* file, void* user_data, void (*o_cb)(void* user_data, FfiResult const* result));\n",
      "void dir_update_file(App const* app, FfiMDataInfo const* parent_info, char const* file_name, File const* file, uint64_t version, void* user_data, void (*o_cb)(void* user_data, FfiResult const* result));\n",
      "void dir_delete_file(App const* app, FfiMDataInfo const* parent_info, char const* file_name, uint64_t version, void* user_data, void (*o_cb)(void* user_data, FfiResult const* result));\n",
      "void file_open(App const* app, FfiMDataInfo const* parent_info, File const* file, uint64_t open_mode, void* user_data, void (*o_cb)(void* user_data, FfiResult const* result, FileContextHandle file_h));\n",
      "void file_size(App const* app, FileContextHandle file_h, void* user_data, void (*o_cb)(void* user_data, FfiResult const* result, uint64_t size));\n",
      "void file_read(App const* app, FileContextHandle file_h, uint64_t position, uint64_t len, void* user_data, void (*o_cb)(void* user_data, FfiResult const* result, uint8_t const* data, uintptr_t data_len));\n",
      "void file_write(App const* app, FileContextHandle file_h, uint8_t const* data, uintptr_t data_len, void* user_data, void (*o_cb)(void* user_data, FfiResult const* result));\n",
      "void file_close(App const* app, FileContextHandle file_h, void* user_data, void (*o_cb)(void* user_data, FfiResult const* result, File const* file));\n",
      "void app_unregistered(uint8_t const* bootstrap_config, uintptr_t bootstrap_config_len, void* user_data, void (*o_disconnect_notifier_cb)(void* user_data), void (*o_cb)(void* user_data, FfiResult const* result, App* app));\n",
      "void app_registered(char const* app_id, FfiAuthGranted const* auth_granted, void* user_data, void (*o_disconnect_notifier_cb)(void* user_data), void (*o_cb)(void* user_data, FfiResult const* result, App* app));\n",
      "void app_reconnect(App* app, void* user_data, void (*o_cb)(void* user_data, FfiResult const* result));\n",
      "void app_account_info(App* app, void* user_data, void (*o_cb)(void* user_data, FfiResult const* result, FfiAccountInfo const* account_info));\n",
      "void app_exe_file_stem(void* user_data, void (*o_cb)(void* user_data, FfiResult const* result, char const* filename));\n",
      "void app_set_additional_search_path(char const* new_path, void* user_data, void (*o_cb)(void* user_data, FfiResult const* result));\n",
      "void app_free(App* app);\n",
      "void app_reset_object_cache(App* app, void* user_data, void (*o_cb)(void* user_data, FfiResult const* result));\n",
      "void app_container_name(char const* app_id, void* user_data, void (*o_cb)(void* user_data, FfiResult const* result, char const* container_name));\n",
      "\n"
     ]
    }
   ],
   "source": [
    "print(preprocess(fileContent))"
   ]
  },
  {
   "cell_type": "code",
   "execution_count": 6,
   "metadata": {
    "collapsed": true
   },
   "outputs": [],
   "source": [
    "includes = preprocess(fileContent)"
   ]
  },
  {
   "cell_type": "code",
   "execution_count": 11,
   "metadata": {
    "collapsed": true
   },
   "outputs": [],
   "source": [
    "typedefs=''\n",
    "functionDeclarations=''\n",
    "for i in includes.splitlines():\n",
    "    if i[:4] == 'void':\n",
    "        functionDeclarations+='\\n'+i\n",
    "    else:\n",
    "        typedefs+='\\n'+i"
   ]
  },
  {
   "cell_type": "code",
   "execution_count": null,
   "metadata": {
    "collapsed": true
   },
   "outputs": [],
   "source": []
  },
  {
   "cell_type": "code",
   "execution_count": null,
   "metadata": {
    "collapsed": true
   },
   "outputs": [],
   "source": []
  },
  {
   "cell_type": "code",
   "execution_count": null,
   "metadata": {
    "collapsed": true
   },
   "outputs": [],
   "source": []
  },
  {
   "cell_type": "code",
   "execution_count": null,
   "metadata": {
    "collapsed": true
   },
   "outputs": [],
   "source": [
    "void app_unregistered(\n",
    "    uint8_t const* bootstrap_config,\n",
    "    uintptr_t bootstrap_config_len, \n",
    "    void* user_data, \n",
    "        void (*o_disconnect_notifier_cb)(void* user_data)\n",
    "        void (*o_cb)(void* user_data, FfiResult const* result, App* app));"
   ]
  },
  {
   "cell_type": "code",
   "execution_count": null,
   "metadata": {
    "collapsed": true
   },
   "outputs": [],
   "source": []
  },
  {
   "cell_type": "code",
   "execution_count": null,
   "metadata": {
    "collapsed": true
   },
   "outputs": [],
   "source": []
  },
  {
   "cell_type": "code",
   "execution_count": 1,
   "metadata": {
    "collapsed": true
   },
   "outputs": [],
   "source": [
    "from cffi import FFI\n",
    "ffi = FFI()"
   ]
  },
  {
   "cell_type": "code",
   "execution_count": 2,
   "metadata": {
    "collapsed": true
   },
   "outputs": [],
   "source": [
    "lib = ffi.dlopen('../target/debug/libsafe_app.so')"
   ]
  },
  {
   "cell_type": "code",
   "execution_count": 3,
   "metadata": {
    "collapsed": true
   },
   "outputs": [],
   "source": [
    "ffi.cdef('''\n",
    "typedef signed char int8_t;\n",
    "''')"
   ]
  },
  {
   "cell_type": "code",
   "execution_count": 4,
   "metadata": {
    "collapsed": true
   },
   "outputs": [],
   "source": [
    "@ffi.callback(\"void(int8_t)\")\n",
    "def myPyFunction(myVal):\n",
    "    print('hallo')\n",
    "    print(myVal)"
   ]
  },
  {
   "cell_type": "code",
   "execution_count": 210,
   "metadata": {
    "collapsed": true
   },
   "outputs": [],
   "source": [
    "declLine='void mdata_get_version(App const* app, FfiMDataInfo const* info, void* user_data, void (*o_cb)(void* user_data, FfiResult const* result, uint64_t version));'"
   ]
  },
  {
   "cell_type": "code",
   "execution_count": 211,
   "metadata": {
    "collapsed": true
   },
   "outputs": [],
   "source": [
    "declLine2='void app_registered(char const* app_id, FfiAuthGranted const* auth_granted, void* user_data, void (*o_disconnect_notifier_cb)(void* user_data), void (*o_cb)(void* user_data, FfiResult const* result, App* app));'"
   ]
  },
  {
   "cell_type": "code",
   "execution_count": 212,
   "metadata": {
    "collapsed": true
   },
   "outputs": [],
   "source": [
    "fun=re.compile('void \\(\\*.+?\\)\\(.+?\\)')"
   ]
  },
  {
   "cell_type": "code",
   "execution_count": 213,
   "metadata": {
    "collapsed": false
   },
   "outputs": [
    {
     "data": {
      "text/plain": [
       "['void (*o_cb)(void* user_data, FfiResult const* result, uint64_t version)']"
      ]
     },
     "execution_count": 213,
     "metadata": {},
     "output_type": "execute_result"
    }
   ],
   "source": [
    "fun.findall(declLine)"
   ]
  },
  {
   "cell_type": "code",
   "execution_count": 214,
   "metadata": {
    "collapsed": false
   },
   "outputs": [
    {
     "data": {
      "text/plain": [
       "['void (*o_disconnect_notifier_cb)(void* user_data)',\n",
       " 'void (*o_cb)(void* user_data, FfiResult const* result, App* app)']"
      ]
     },
     "execution_count": 214,
     "metadata": {},
     "output_type": "execute_result"
    }
   ],
   "source": [
    "fun.findall(declLine2)"
   ]
  },
  {
   "cell_type": "code",
   "execution_count": 299,
   "metadata": {
    "collapsed": false
   },
   "outputs": [
    {
     "name": "stdout",
     "output_type": "stream",
     "text": [
      "@ffi.callback(\"void(void*)\")\n",
      "def o_disconnect_notifier_cb(user_data):\n",
      "\n",
      "\n",
      "@ffi.callback(\"void(void*,FfiResult const*,App*)\")\n",
      "def o_cb(user_data,result,app):\n",
      "\n",
      "\n"
     ]
    }
   ],
   "source": [
    "for oneFun in fun.findall(declLine2):\n",
    "    funName=re.findall('\\(\\*.+?\\)',oneFun)[0][2:-1]\n",
    "    allParameters=re.findall('\\(.+?\\)',oneFun)[-1][1:-1].split(',')\n",
    "    parameterNames=''\n",
    "    stringToPrint='void('\n",
    "    for onePar in allParameters:\n",
    "        stringToPrint+=' '.join(onePar.split()[:-1])+','\n",
    "        parameterNames+=onePar.split()[-1]+','\n",
    "    stringToPrint=stringToPrint[:-1]+')'\n",
    "    print('@ffi.callback(\"' + stringToPrint + '\")')\n",
    "    print('def ' + funName + '(' + parameterNames[:-1] + '):')\n",
    "    print()\n",
    "    print()"
   ]
  },
  {
   "cell_type": "code",
   "execution_count": null,
   "metadata": {
    "collapsed": true
   },
   "outputs": [],
   "source": []
  },
  {
   "cell_type": "code",
   "execution_count": 237,
   "metadata": {
    "collapsed": true
   },
   "outputs": [],
   "source": [
    "dataTypesExcample='''typedef int int32_t;\n",
    "    typedef unsigned long int uint_fast32_t;\n",
    "    typedef unsigned long int uint_fast64_t;\n",
    "typedef struct {\n",
    "    int32_t error_code;\n",
    "    char* description;\n",
    "} FfiResult;\n",
    "typedef struct {\n",
    "    int32_t error_code;\n",
    "    FfiResult* nonono;\n",
    "} testStruct;\n",
    "typedef struct {\n",
    "    unsigned long int error_code;\n",
    "    unsigned long int* error_code2;\n",
    "    testStruct* nonono;\n",
    "} testStruct2;'''"
   ]
  },
  {
   "cell_type": "code",
   "execution_count": 238,
   "metadata": {
    "collapsed": true
   },
   "outputs": [],
   "source": [
    "oneliners=re.compile('typedef.+?;')"
   ]
  },
  {
   "cell_type": "code",
   "execution_count": 239,
   "metadata": {
    "collapsed": true
   },
   "outputs": [],
   "source": [
    "myStructTypes=re.compile('typedef struct .+?}.+?;', flags=re.DOTALL)"
   ]
  },
  {
   "cell_type": "code",
   "execution_count": 240,
   "metadata": {
    "collapsed": false
   },
   "outputs": [
    {
     "data": {
      "text/plain": [
       "['typedef int int32_t;',\n",
       " 'typedef unsigned long int uint_fast32_t;',\n",
       " 'typedef unsigned long int uint_fast64_t;']"
      ]
     },
     "execution_count": 240,
     "metadata": {},
     "output_type": "execute_result"
    }
   ],
   "source": [
    "allOneLiners=oneliners.findall(dataTypesExcample)\n",
    "allOneLiners"
   ]
  },
  {
   "cell_type": "code",
   "execution_count": 241,
   "metadata": {
    "collapsed": false
   },
   "outputs": [
    {
     "name": "stdout",
     "output_type": "stream",
     "text": [
      "typedef struct {\n",
      "    int32_t error_code;\n",
      "    char* description;\n",
      "} FfiResult;\n",
      "typedef struct {\n",
      "    int32_t error_code;\n",
      "    FfiResult* nonono;\n",
      "} testStruct;\n",
      "typedef struct {\n",
      "    unsigned long int error_code;\n",
      "    unsigned long int* error_code2;\n",
      "    testStruct* nonono;\n",
      "} testStruct2;\n"
     ]
    }
   ],
   "source": [
    "allMyStructs=myStructTypes.findall(dataTypesExcample)\n",
    "for oneStruct in allMyStructs:\n",
    "    print(oneStruct)"
   ]
  },
  {
   "cell_type": "markdown",
   "metadata": {},
   "source": [
    "---"
   ]
  },
  {
   "cell_type": "code",
   "execution_count": 253,
   "metadata": {
    "collapsed": true
   },
   "outputs": [],
   "source": [
    "dictWithTypes={}"
   ]
  },
  {
   "cell_type": "code",
   "execution_count": 254,
   "metadata": {
    "collapsed": true
   },
   "outputs": [],
   "source": [
    "for oneStruct in allMyStructs:\n",
    "    allElements=[]\n",
    "    for oneline in oneStruct.splitlines()[1:-1]:\n",
    "        allElements.append(' '.join(oneline.split()[:-1]))\n",
    "    myKey=oneStruct.splitlines()[-1].split()[-1][:-1]\n",
    "    dictWithTypes[myKey]=allElements"
   ]
  },
  {
   "cell_type": "code",
   "execution_count": 255,
   "metadata": {
    "collapsed": false
   },
   "outputs": [
    {
     "data": {
      "text/plain": [
       "{'FfiResult': ['int32_t', 'char*'],\n",
       " 'testStruct': ['int32_t', 'FfiResult*'],\n",
       " 'testStruct2': ['unsigned long int', 'unsigned long int*', 'testStruct*']}"
      ]
     },
     "execution_count": 255,
     "metadata": {},
     "output_type": "execute_result"
    }
   ],
   "source": [
    "dictWithTypes"
   ]
  },
  {
   "cell_type": "code",
   "execution_count": 281,
   "metadata": {
    "collapsed": true
   },
   "outputs": [],
   "source": [
    "def printDeclaration(varName,varType):\n",
    "    neededVars=dictWithTypes[varType.strip('*')]\n",
    "    #print(neededVars)\n",
    "    containedVars=[]\n",
    "    for i,allVarstypes in enumerate(neededVars):\n",
    "        if allVarstypes.strip('*') in dictWithTypes.keys():\n",
    "            printDeclaration(varName+'_'+str(i),allVarstypes)\n",
    "            containedVars.append(varName+'_'+str(i))\n",
    "        else:\n",
    "            stringToPrint=varName + '_' + str(i) + ' =  ffi.new(\\'' + allVarstypes + '\\',0)'\n",
    "            containedVars.append(varName+'_'+str(i))\n",
    "            print(stringToPrint)\n",
    "    stringToPrint=varName + ' = ffi.new(\\'' + varType + '\\','\n",
    "    if len(containedVars) > 1:\n",
    "        stringToPrint+='['\n",
    "        for one in containedVars:\n",
    "            stringToPrint+=one+','\n",
    "        stringToPrint=stringToPrint[:-1]+']'\n",
    "    else:\n",
    "        stringToPrint+=containedVars[0]\n",
    "    stringToPrint+=')'\n",
    "    print(stringToPrint)"
   ]
  },
  {
   "cell_type": "code",
   "execution_count": 282,
   "metadata": {
    "collapsed": false
   },
   "outputs": [
    {
     "name": "stdout",
     "output_type": "stream",
     "text": [
      "test_0 =  ffi.new('unsigned long int',0)\n",
      "test_1 =  ffi.new('unsigned long int*',0)\n",
      "test_2_0 =  ffi.new('int32_t',0)\n",
      "test_2_1_0 =  ffi.new('int32_t',0)\n",
      "test_2_1_1 =  ffi.new('char*',0)\n",
      "test_2_1 = ffi.new('FfiResult*',[test_2_1_0,test_2_1_1])\n",
      "test_2 = ffi.new('testStruct*',[test_2_0,test_2_1])\n",
      "test = ffi.new('testStruct2',[test_0,test_1,test_2])\n"
     ]
    }
   ],
   "source": [
    "printDeclaration('test','testStruct2')"
   ]
  },
  {
   "cell_type": "code",
   "execution_count": null,
   "metadata": {
    "collapsed": true
   },
   "outputs": [],
   "source": []
  },
  {
   "cell_type": "code",
   "execution_count": null,
   "metadata": {
    "collapsed": true
   },
   "outputs": [],
   "source": []
  },
  {
   "cell_type": "code",
   "execution_count": null,
   "metadata": {
    "collapsed": true
   },
   "outputs": [],
   "source": []
  },
  {
   "cell_type": "code",
   "execution_count": 74,
   "metadata": {
    "collapsed": true
   },
   "outputs": [],
   "source": [
    "class SafePy:        \n",
    "    def __init__(self, myName, myParameter):\n",
    "        self.name = myName\n",
    "        self.parameter1 = [myParameter]\n",
    "        \n",
    "        \n",
    "    def getNewVal(self,myVal):\n",
    "        @ffi.callback(\"void(int8_t)\")\n",
    "        def myPyFunction(myVal):\n",
    "            self.parameter1.append(myVal)\n",
    "        \n",
    "        lib.functionCallBack(myVal,myPyFunction)"
   ]
  },
  {
   "cell_type": "code",
   "execution_count": 75,
   "metadata": {
    "collapsed": true
   },
   "outputs": [],
   "source": [
    "newSafe=SafePy('rid',17)"
   ]
  },
  {
   "cell_type": "code",
   "execution_count": 76,
   "metadata": {
    "collapsed": true
   },
   "outputs": [],
   "source": [
    "secondSafe=SafePy('dim',10)"
   ]
  },
  {
   "cell_type": "code",
   "execution_count": 77,
   "metadata": {
    "collapsed": true
   },
   "outputs": [],
   "source": [
    "secondSafe.getNewVal(11)"
   ]
  },
  {
   "cell_type": "code",
   "execution_count": 78,
   "metadata": {
    "collapsed": false,
    "scrolled": true
   },
   "outputs": [
    {
     "data": {
      "text/plain": [
       "[10, 33, 22]"
      ]
     },
     "execution_count": 78,
     "metadata": {},
     "output_type": "execute_result"
    }
   ],
   "source": [
    "secondSafe.parameter1"
   ]
  },
  {
   "cell_type": "code",
   "execution_count": null,
   "metadata": {
    "collapsed": true
   },
   "outputs": [],
   "source": []
  },
  {
   "cell_type": "code",
   "execution_count": 79,
   "metadata": {
    "collapsed": false
   },
   "outputs": [
    {
     "data": {
      "text/plain": [
       "[17]"
      ]
     },
     "execution_count": 79,
     "metadata": {},
     "output_type": "execute_result"
    }
   ],
   "source": [
    "newSafe.parameter1"
   ]
  },
  {
   "cell_type": "code",
   "execution_count": 80,
   "metadata": {
    "collapsed": true
   },
   "outputs": [],
   "source": [
    "newSafe.getNewVal(3)"
   ]
  },
  {
   "cell_type": "code",
   "execution_count": 81,
   "metadata": {
    "collapsed": false,
    "scrolled": true
   },
   "outputs": [
    {
     "data": {
      "text/plain": [
       "[17, 9, 6]"
      ]
     },
     "execution_count": 81,
     "metadata": {},
     "output_type": "execute_result"
    }
   ],
   "source": [
    "newSafe.parameter1"
   ]
  },
  {
   "cell_type": "code",
   "execution_count": 82,
   "metadata": {
    "collapsed": true
   },
   "outputs": [],
   "source": [
    "newSafe.getNewVal(14)"
   ]
  },
  {
   "cell_type": "code",
   "execution_count": 83,
   "metadata": {
    "collapsed": false
   },
   "outputs": [
    {
     "data": {
      "text/plain": [
       "[17, 9, 6, 42, 28]"
      ]
     },
     "execution_count": 83,
     "metadata": {},
     "output_type": "execute_result"
    }
   ],
   "source": [
    "newSafe.parameter1"
   ]
  },
  {
   "cell_type": "code",
   "execution_count": 84,
   "metadata": {
    "collapsed": false,
    "scrolled": true
   },
   "outputs": [
    {
     "data": {
      "text/plain": [
       "[10, 33, 22]"
      ]
     },
     "execution_count": 84,
     "metadata": {},
     "output_type": "execute_result"
    }
   ],
   "source": [
    "secondSafe.parameter1"
   ]
  },
  {
   "cell_type": "code",
   "execution_count": null,
   "metadata": {
    "collapsed": true
   },
   "outputs": [],
   "source": []
  },
  {
   "cell_type": "code",
   "execution_count": null,
   "metadata": {
    "collapsed": true
   },
   "outputs": [],
   "source": []
  },
  {
   "cell_type": "code",
   "execution_count": 1,
   "metadata": {
    "collapsed": true
   },
   "outputs": [],
   "source": [
    "from cffi import FFI\n",
    "ffi = FFI()"
   ]
  },
  {
   "cell_type": "code",
   "execution_count": 2,
   "metadata": {
    "collapsed": true
   },
   "outputs": [],
   "source": [
    "lib = ffi.dlopen('../target/debug/libsafe_app.so')"
   ]
  },
  {
   "cell_type": "code",
   "execution_count": 3,
   "metadata": {
    "collapsed": true
   },
   "outputs": [],
   "source": [
    "ffi.cdef('''\n",
    "typedef signed char int8_t;\n",
    "typedef int int32_t;\n",
    "typedef struct {\n",
    "    int32_t error_code;\n",
    "    char* description;\n",
    "} FfiResult;\n",
    "''')"
   ]
  },
  {
   "cell_type": "code",
   "execution_count": 4,
   "metadata": {
    "collapsed": true
   },
   "outputs": [],
   "source": [
    "def getCString(cString, length):\n",
    "    completeString=b''\n",
    "    for i in range(length):\n",
    "        completeString+=cString[i]\n",
    "    return completeString"
   ]
  },
  {
   "cell_type": "code",
   "execution_count": 8,
   "metadata": {
    "collapsed": true
   },
   "outputs": [],
   "source": [
    "class FfiRes:\n",
    "    def __init__(self, myStr, num):\n",
    "        self.innerString = ffi.new('char[]',myStr)\n",
    "        self.stringLength=len(myStr)\n",
    "        self.entity = ffi.new('FfiResult*',[num,self.innerString])\n",
    "        \n",
    "    def getNum(self):\n",
    "        return self.entity.error_code\n",
    "    \n",
    "    def getString(self):\n",
    "        return getCString(self.entity.description,self.stringLength)"
   ]
  },
  {
   "cell_type": "code",
   "execution_count": 9,
   "metadata": {
    "collapsed": true
   },
   "outputs": [],
   "source": [
    "newF=FfiRes(b'waaaaaahahaaaaa!',2)"
   ]
  },
  {
   "cell_type": "code",
   "execution_count": 10,
   "metadata": {
    "collapsed": false
   },
   "outputs": [
    {
     "data": {
      "text/plain": [
       "<cdata 'FfiResult *' owning 16 bytes>"
      ]
     },
     "execution_count": 10,
     "metadata": {},
     "output_type": "execute_result"
    }
   ],
   "source": [
    "newF.entity"
   ]
  },
  {
   "cell_type": "code",
   "execution_count": 5,
   "metadata": {
    "collapsed": true
   },
   "outputs": [],
   "source": [
    "@ffi.callback(\"void(FfiResult *)\")\n",
    "def myPyFunction(myFfiRes):\n",
    "    def getCString(cString, length):\n",
    "        completeString=b''\n",
    "        for i in range(length):\n",
    "            completeString+=cString[i]\n",
    "        return completeString\n",
    "    print(myFfiRes.error_code)\n",
    "    print(getCString(myFfiRes.description,35))"
   ]
  },
  {
   "cell_type": "code",
   "execution_count": 6,
   "metadata": {
    "collapsed": false
   },
   "outputs": [
    {
     "data": {
      "text/plain": [
       "<cdata 'void(*)(FfiResult *)' calling <function myPyFunction at 0x7f3ca15b5b70>>"
      ]
     },
     "execution_count": 6,
     "metadata": {},
     "output_type": "execute_result"
    }
   ],
   "source": [
    "myPyFunction"
   ]
  },
  {
   "cell_type": "code",
   "execution_count": 7,
   "metadata": {
    "collapsed": true
   },
   "outputs": [],
   "source": [
    "ffi.cdef('''\n",
    "void functionCallBack2(int32_t number, FfiResult* firstRes, void(*)(FfiResult *));\n",
    "''')"
   ]
  },
  {
   "cell_type": "code",
   "execution_count": 11,
   "metadata": {
    "collapsed": false
   },
   "outputs": [
    {
     "name": "stdout",
     "output_type": "stream",
     "text": [
      "17\n",
      "b'now this is getting fun!\\x00\\x00\\x00\\x00\\x00\\x00\\x00\\x000\\x00\\x00'\n"
     ]
    }
   ],
   "source": [
    "lib.functionCallBack2(17,newF.entity,myPyFunction)"
   ]
  },
  {
   "cell_type": "code",
   "execution_count": null,
   "metadata": {
    "collapsed": true
   },
   "outputs": [],
   "source": []
  },
  {
   "cell_type": "code",
   "execution_count": null,
   "metadata": {
    "collapsed": true
   },
   "outputs": [],
   "source": []
  },
  {
   "cell_type": "code",
   "execution_count": null,
   "metadata": {
    "collapsed": true
   },
   "outputs": [],
   "source": []
  },
  {
   "cell_type": "code",
   "execution_count": null,
   "metadata": {
    "collapsed": true
   },
   "outputs": [],
   "source": []
  },
  {
   "cell_type": "code",
   "execution_count": 1,
   "metadata": {
    "collapsed": true
   },
   "outputs": [],
   "source": [
    "from cffi import FFI\n",
    "ffi = FFI()"
   ]
  },
  {
   "cell_type": "code",
   "execution_count": 2,
   "metadata": {
    "collapsed": true
   },
   "outputs": [],
   "source": [
    "ffi.cdef('''\n",
    "typedef signed char int8_t;\n",
    "typedef struct {\n",
    "    int8_t* sym_enc_key;\n",
    "    int8_t sym_enc_key2;\n",
    "} Registered;\n",
    "void pyTestFun(int8_t* number, Registered* myStruct );\n",
    "''')"
   ]
  },
  {
   "cell_type": "code",
   "execution_count": 3,
   "metadata": {
    "collapsed": true
   },
   "outputs": [],
   "source": [
    "lib = ffi.dlopen('../target/debug/libsafe_app.so')"
   ]
  },
  {
   "cell_type": "code",
   "execution_count": 4,
   "metadata": {
    "collapsed": true
   },
   "outputs": [],
   "source": [
    "testVar1=ffi.new('int8_t*',17)"
   ]
  },
  {
   "cell_type": "code",
   "execution_count": 6,
   "metadata": {
    "collapsed": true
   },
   "outputs": [],
   "source": [
    "randomNumber=ffi.new('int8_t*',7)"
   ]
  },
  {
   "cell_type": "code",
   "execution_count": 8,
   "metadata": {
    "collapsed": false
   },
   "outputs": [
    {
     "data": {
      "text/plain": [
       "7"
      ]
     },
     "execution_count": 8,
     "metadata": {},
     "output_type": "execute_result"
    }
   ],
   "source": [
    "randomNumber[0]"
   ]
  },
  {
   "cell_type": "markdown",
   "metadata": {},
   "source": [
    "creating the struct with containing (pointer to) numbers as defined above"
   ]
  },
  {
   "cell_type": "code",
   "execution_count": 9,
   "metadata": {
    "collapsed": true
   },
   "outputs": [],
   "source": [
    "myStruct=ffi.new('Registered *',[randomNumber,2])"
   ]
  },
  {
   "cell_type": "code",
   "execution_count": 10,
   "metadata": {
    "collapsed": true
   },
   "outputs": [],
   "source": [
    "lib.pyTestFun(testVar1,myStruct)"
   ]
  },
  {
   "cell_type": "code",
   "execution_count": 24,
   "metadata": {
    "collapsed": false
   },
   "outputs": [
    {
     "data": {
      "text/plain": [
       "b'u'"
      ]
     },
     "execution_count": 24,
     "metadata": {},
     "output_type": "execute_result"
    }
   ],
   "source": [
    "res1.description[2]"
   ]
  },
  {
   "cell_type": "code",
   "execution_count": 25,
   "metadata": {
    "collapsed": false
   },
   "outputs": [
    {
     "data": {
      "text/plain": [
       "b'u'"
      ]
     },
     "execution_count": 25,
     "metadata": {},
     "output_type": "execute_result"
    }
   ],
   "source": [
    "res2.description[2]"
   ]
  },
  {
   "cell_type": "code",
   "execution_count": 11,
   "metadata": {
    "collapsed": false
   },
   "outputs": [
    {
     "data": {
      "text/plain": [
       "20"
      ]
     },
     "execution_count": 11,
     "metadata": {},
     "output_type": "execute_result"
    }
   ],
   "source": [
    "testVar1[0]"
   ]
  },
  {
   "cell_type": "code",
   "execution_count": 12,
   "metadata": {
    "collapsed": false
   },
   "outputs": [
    {
     "data": {
      "text/plain": [
       "8"
      ]
     },
     "execution_count": 12,
     "metadata": {},
     "output_type": "execute_result"
    }
   ],
   "source": [
    "myStruct.sym_enc_key[0]"
   ]
  },
  {
   "cell_type": "code",
   "execution_count": 14,
   "metadata": {
    "collapsed": false
   },
   "outputs": [
    {
     "data": {
      "text/plain": [
       "4"
      ]
     },
     "execution_count": 14,
     "metadata": {},
     "output_type": "execute_result"
    }
   ],
   "source": [
    "myStruct.sym_enc_key2"
   ]
  },
  {
   "cell_type": "code",
   "execution_count": null,
   "metadata": {
    "collapsed": true
   },
   "outputs": [],
   "source": []
  },
  {
   "cell_type": "code",
   "execution_count": 15,
   "metadata": {
    "collapsed": true
   },
   "outputs": [],
   "source": [
    "lib.pyTestFun(testVar1,myStruct)"
   ]
  },
  {
   "cell_type": "code",
   "execution_count": 16,
   "metadata": {
    "collapsed": false
   },
   "outputs": [
    {
     "data": {
      "text/plain": [
       "23"
      ]
     },
     "execution_count": 16,
     "metadata": {},
     "output_type": "execute_result"
    }
   ],
   "source": [
    "testVar1[0]"
   ]
  },
  {
   "cell_type": "code",
   "execution_count": 17,
   "metadata": {
    "collapsed": false
   },
   "outputs": [
    {
     "data": {
      "text/plain": [
       "9"
      ]
     },
     "execution_count": 17,
     "metadata": {},
     "output_type": "execute_result"
    }
   ],
   "source": [
    "myStruct.sym_enc_key[0]"
   ]
  },
  {
   "cell_type": "code",
   "execution_count": 18,
   "metadata": {
    "collapsed": false
   },
   "outputs": [
    {
     "data": {
      "text/plain": [
       "8"
      ]
     },
     "execution_count": 18,
     "metadata": {},
     "output_type": "execute_result"
    }
   ],
   "source": [
    "myStruct.sym_enc_key2"
   ]
  },
  {
   "cell_type": "code",
   "execution_count": null,
   "metadata": {
    "collapsed": true
   },
   "outputs": [],
   "source": []
  },
  {
   "cell_type": "code",
   "execution_count": null,
   "metadata": {
    "collapsed": true
   },
   "outputs": [],
   "source": []
  },
  {
   "cell_type": "markdown",
   "metadata": {},
   "source": [
    "### playing with strings"
   ]
  },
  {
   "cell_type": "code",
   "execution_count": 1,
   "metadata": {
    "collapsed": true
   },
   "outputs": [],
   "source": [
    "def getCString(cString, length):\n",
    "    completeString=b''\n",
    "    for i in range(length):\n",
    "        completeString+=cString[i]\n",
    "    return completeString"
   ]
  },
  {
   "cell_type": "code",
   "execution_count": 2,
   "metadata": {
    "collapsed": true
   },
   "outputs": [],
   "source": [
    "from cffi import FFI\n",
    "ffi = FFI()"
   ]
  },
  {
   "cell_type": "code",
   "execution_count": 3,
   "metadata": {
    "collapsed": true
   },
   "outputs": [],
   "source": [
    "ffi.cdef('''\n",
    "typedef signed char int8_t;\n",
    "typedef int int32_t;\n",
    "typedef struct {\n",
    "    int32_t error_code;\n",
    "    char* description;\n",
    "} FfiResult;\n",
    "typedef struct {\n",
    "    int8_t* sym_enc_key;\n",
    "    int8_t sym_enc_key2;\n",
    "} Registered;\n",
    "void pyTestFun(int8_t* number, Registered* myStruct );\n",
    "void pyTestFun2(FfiResult* firstRes, FfiResult* secondRes );\n",
    "void pyTestFun3(FfiResult* firstRes, FfiResult* secondRes );\n",
    "''')"
   ]
  },
  {
   "cell_type": "code",
   "execution_count": 4,
   "metadata": {
    "collapsed": true
   },
   "outputs": [],
   "source": [
    "lib = ffi.dlopen('../target/debug/libsafe_app.so')"
   ]
  },
  {
   "cell_type": "code",
   "execution_count": 41,
   "metadata": {
    "collapsed": true
   },
   "outputs": [],
   "source": [
    "class FfiRes:\n",
    "    def __init__(self, myStr, num):\n",
    "        self.innerString = ffi.new('char[]',myStr)\n",
    "        self.stringLength=len(myStr)\n",
    "        self.entity = ffi.new('FfiResult*',[num,self.innerString])\n",
    "        \n",
    "    def getNum(self):\n",
    "        return self.entity.error_code\n",
    "    \n",
    "    def getString(self):\n",
    "        return getCString(self.entity.description,self.stringLength)"
   ]
  },
  {
   "cell_type": "code",
   "execution_count": 47,
   "metadata": {
    "collapsed": true
   },
   "outputs": [],
   "source": [
    "newF=FfiRes(b'ha! - das wird richtig gut',2)"
   ]
  },
  {
   "cell_type": "code",
   "execution_count": 46,
   "metadata": {
    "collapsed": true
   },
   "outputs": [],
   "source": [
    "newF2=FfiRes(b'hasdfh gut',3)"
   ]
  },
  {
   "cell_type": "code",
   "execution_count": 48,
   "metadata": {
    "collapsed": true
   },
   "outputs": [],
   "source": [
    "lib.pyTestFun3(newF.entity,newF2.entity)"
   ]
  },
  {
   "cell_type": "code",
   "execution_count": 43,
   "metadata": {
    "collapsed": false
   },
   "outputs": [
    {
     "data": {
      "text/plain": [
       "2"
      ]
     },
     "execution_count": 43,
     "metadata": {},
     "output_type": "execute_result"
    }
   ],
   "source": [
    "newF.getNum()"
   ]
  },
  {
   "cell_type": "code",
   "execution_count": 51,
   "metadata": {
    "collapsed": true
   },
   "outputs": [],
   "source": [
    "newF2.stringLength = 35"
   ]
  },
  {
   "cell_type": "code",
   "execution_count": 52,
   "metadata": {
    "collapsed": false
   },
   "outputs": [
    {
     "data": {
      "text/plain": [
       "b'hello - now this is getting fun!\\x00\\x0f\\xcf'"
      ]
     },
     "execution_count": 52,
     "metadata": {},
     "output_type": "execute_result"
    }
   ],
   "source": [
    "newF2.getString()"
   ]
  },
  {
   "cell_type": "code",
   "execution_count": 5,
   "metadata": {
    "collapsed": true
   },
   "outputs": [],
   "source": [
    "myString=ffi.new('char[]',b'lalilala')"
   ]
  },
  {
   "cell_type": "code",
   "execution_count": 6,
   "metadata": {
    "collapsed": true
   },
   "outputs": [],
   "source": [
    "myString2=ffi.new('char[]',b'wer\\'re getting closer')"
   ]
  },
  {
   "cell_type": "code",
   "execution_count": 7,
   "metadata": {
    "collapsed": true
   },
   "outputs": [],
   "source": [
    "res1=ffi.new('FfiResult*',[1,myString])"
   ]
  },
  {
   "cell_type": "code",
   "execution_count": 8,
   "metadata": {
    "collapsed": true
   },
   "outputs": [],
   "source": [
    "res2=ffi.new('FfiResult*',[2,myString2])"
   ]
  },
  {
   "cell_type": "markdown",
   "metadata": {},
   "source": [
    "---"
   ]
  },
  {
   "cell_type": "code",
   "execution_count": 9,
   "metadata": {
    "collapsed": false
   },
   "outputs": [
    {
     "data": {
      "text/plain": [
       "b'lalilala\\x00\\x00\\x00\\x00\\x00\\x00\\x00\\x00\\x00\\x00\\x00\\x00\\x00\\x00\\x00'"
      ]
     },
     "execution_count": 9,
     "metadata": {},
     "output_type": "execute_result"
    }
   ],
   "source": [
    "getCString(res1.description,23)"
   ]
  },
  {
   "cell_type": "code",
   "execution_count": 10,
   "metadata": {
    "collapsed": false
   },
   "outputs": [
    {
     "data": {
      "text/plain": [
       "1"
      ]
     },
     "execution_count": 10,
     "metadata": {},
     "output_type": "execute_result"
    }
   ],
   "source": [
    "res1.error_code"
   ]
  },
  {
   "cell_type": "code",
   "execution_count": 11,
   "metadata": {
    "collapsed": false
   },
   "outputs": [
    {
     "data": {
      "text/plain": [
       "b\"wer're getting closer\\x00\\x00\""
      ]
     },
     "execution_count": 11,
     "metadata": {},
     "output_type": "execute_result"
    }
   ],
   "source": [
    "getCString(res2.description,23)"
   ]
  },
  {
   "cell_type": "markdown",
   "metadata": {},
   "source": [
    "---"
   ]
  },
  {
   "cell_type": "code",
   "execution_count": 12,
   "metadata": {
    "collapsed": true
   },
   "outputs": [],
   "source": [
    "lib.pyTestFun2(res1,res2)"
   ]
  },
  {
   "cell_type": "code",
   "execution_count": 13,
   "metadata": {
    "collapsed": false
   },
   "outputs": [
    {
     "data": {
      "text/plain": [
       "17"
      ]
     },
     "execution_count": 13,
     "metadata": {},
     "output_type": "execute_result"
    }
   ],
   "source": [
    "res1.error_code"
   ]
  },
  {
   "cell_type": "markdown",
   "metadata": {},
   "source": [
    "---"
   ]
  },
  {
   "cell_type": "code",
   "execution_count": 14,
   "metadata": {
    "collapsed": false
   },
   "outputs": [
    {
     "data": {
      "text/plain": [
       "b\"wer're getting closer\\x00\\x00\""
      ]
     },
     "execution_count": 14,
     "metadata": {},
     "output_type": "execute_result"
    }
   ],
   "source": [
    "getCString(res1.description,23)"
   ]
  },
  {
   "cell_type": "code",
   "execution_count": 15,
   "metadata": {
    "collapsed": false
   },
   "outputs": [
    {
     "data": {
      "text/plain": [
       "b\"wer're getting closer\\x00\\x00\""
      ]
     },
     "execution_count": 15,
     "metadata": {},
     "output_type": "execute_result"
    }
   ],
   "source": [
    "getCString(res2.description,23)"
   ]
  },
  {
   "cell_type": "code",
   "execution_count": 16,
   "metadata": {
    "collapsed": true
   },
   "outputs": [],
   "source": [
    "res2.description[0]=b'H'"
   ]
  },
  {
   "cell_type": "code",
   "execution_count": 17,
   "metadata": {
    "collapsed": false
   },
   "outputs": [
    {
     "data": {
      "text/plain": [
       "b\"Her're getting closer\\x00\\x00\""
      ]
     },
     "execution_count": 17,
     "metadata": {},
     "output_type": "execute_result"
    }
   ],
   "source": [
    "getCString(res1.description,23)"
   ]
  },
  {
   "cell_type": "code",
   "execution_count": 18,
   "metadata": {
    "collapsed": false
   },
   "outputs": [
    {
     "data": {
      "text/plain": [
       "b\"Her're getting closer\\x00\\x00\""
      ]
     },
     "execution_count": 18,
     "metadata": {},
     "output_type": "execute_result"
    }
   ],
   "source": [
    "getCString(res2.description,23)"
   ]
  },
  {
   "cell_type": "code",
   "execution_count": null,
   "metadata": {
    "collapsed": true
   },
   "outputs": [],
   "source": []
  },
  {
   "cell_type": "code",
   "execution_count": 12,
   "metadata": {
    "collapsed": true
   },
   "outputs": [],
   "source": [
    "lib.pyTestFun3(res1,res2)"
   ]
  },
  {
   "cell_type": "code",
   "execution_count": 13,
   "metadata": {
    "collapsed": false
   },
   "outputs": [
    {
     "data": {
      "text/plain": [
       "27"
      ]
     },
     "execution_count": 13,
     "metadata": {},
     "output_type": "execute_result"
    }
   ],
   "source": [
    "res1.error_code"
   ]
  },
  {
   "cell_type": "code",
   "execution_count": 14,
   "metadata": {
    "collapsed": false
   },
   "outputs": [
    {
     "data": {
      "text/plain": [
       "b'lalilala\\x00\\x00\\x00\\x00\\x00\\x00\\x00\\x00\\x00\\x00\\x00\\x00\\x00\\x00\\x00'"
      ]
     },
     "execution_count": 14,
     "metadata": {},
     "output_type": "execute_result"
    }
   ],
   "source": [
    "getCString(res1.description,23)"
   ]
  },
  {
   "cell_type": "code",
   "execution_count": 15,
   "metadata": {
    "collapsed": false
   },
   "outputs": [
    {
     "data": {
      "text/plain": [
       "b'hello - now this is getting fun!\\x00\\x00\\x00'"
      ]
     },
     "execution_count": 15,
     "metadata": {},
     "output_type": "execute_result"
    }
   ],
   "source": [
    "getCString(res2.description,35)"
   ]
  },
  {
   "cell_type": "code",
   "execution_count": null,
   "metadata": {
    "collapsed": true
   },
   "outputs": [],
   "source": []
  },
  {
   "cell_type": "code",
   "execution_count": null,
   "metadata": {
    "collapsed": true
   },
   "outputs": [],
   "source": []
  },
  {
   "cell_type": "code",
   "execution_count": 22,
   "metadata": {
    "collapsed": true
   },
   "outputs": [],
   "source": [
    "newFfi=getFfiRes(b'hallo',15)"
   ]
  },
  {
   "cell_type": "code",
   "execution_count": 23,
   "metadata": {
    "collapsed": false
   },
   "outputs": [
    {
     "data": {
      "text/plain": [
       "b'@\\x00\\x00\\x00\\x00\\x00\\x00\\x00@\\x00\\x00\\x00\\x00\\x00\\x00\\x00(bnME\\x7f\\x00'"
      ]
     },
     "execution_count": 23,
     "metadata": {},
     "output_type": "execute_result"
    }
   ],
   "source": [
    "getCString(newFfi.description,23)"
   ]
  },
  {
   "cell_type": "code",
   "execution_count": 21,
   "metadata": {
    "collapsed": false
   },
   "outputs": [
    {
     "data": {
      "text/plain": [
       "15"
      ]
     },
     "execution_count": 21,
     "metadata": {},
     "output_type": "execute_result"
    }
   ],
   "source": [
    "newFfi.error_code"
   ]
  },
  {
   "cell_type": "code",
   "execution_count": null,
   "metadata": {
    "collapsed": true
   },
   "outputs": [],
   "source": []
  },
  {
   "cell_type": "code",
   "execution_count": null,
   "metadata": {
    "collapsed": true
   },
   "outputs": [],
   "source": []
  },
  {
   "cell_type": "code",
   "execution_count": null,
   "metadata": {
    "collapsed": true
   },
   "outputs": [],
   "source": []
  },
  {
   "cell_type": "markdown",
   "metadata": {},
   "source": [
    "##### the following is just as hint for later that it should be possible to do automatic preprocessing to extract most of the info out of the c header files"
   ]
  },
  {
   "cell_type": "code",
   "execution_count": 2,
   "metadata": {
    "collapsed": true
   },
   "outputs": [],
   "source": [
    "from cffi import FFI\n",
    "ffi = FFI()"
   ]
  },
  {
   "cell_type": "code",
   "execution_count": 53,
   "metadata": {
    "collapsed": true
   },
   "outputs": [],
   "source": [
    "import unittest\n",
    "import cffi\n",
    "import importlib\n",
    "import pycparser\n",
    "import subprocess"
   ]
  },
  {
   "cell_type": "markdown",
   "metadata": {
    "collapsed": true
   },
   "source": [
    "def preprocess(source):\n",
    "    return subprocess.call(['gcc', '-E', '-P', '-'],\n",
    "            input=source, stdout=subprocess.PIPE,\n",
    "            universal_newlines=True, check=True).stdout"
   ]
  },
  {
   "cell_type": "code",
   "execution_count": 4,
   "metadata": {
    "collapsed": true
   },
   "outputs": [],
   "source": [
    "def preprocess(source):\n",
    "    return subprocess.run(['gcc', '-E', '-P', '-'],\n",
    "                          input=source, stdout=subprocess.PIPE,\n",
    "                          universal_newlines=True, check=True).stdout"
   ]
  },
  {
   "cell_type": "code",
   "execution_count": 5,
   "metadata": {
    "collapsed": false
   },
   "outputs": [
    {
     "name": "stdout",
     "output_type": "stream",
     "text": [
      "newtest.h  safe_app.h  safe_authenticator.h  safe_core.h  test.h\r\n"
     ]
    }
   ],
   "source": [
    "ls *.h"
   ]
  },
  {
   "cell_type": "code",
   "execution_count": 21,
   "metadata": {
    "collapsed": true
   },
   "outputs": [],
   "source": [
    "filename='safe_app'"
   ]
  },
  {
   "cell_type": "code",
   "execution_count": 22,
   "metadata": {
    "collapsed": true
   },
   "outputs": [],
   "source": [
    "with open(filename + '.h') as f:\n",
    "    fileContent=f.read()"
   ]
  },
  {
   "cell_type": "code",
   "execution_count": 23,
   "metadata": {
    "collapsed": true
   },
   "outputs": [],
   "source": [
    "includes = preprocess(fileContent)"
   ]
  },
  {
   "cell_type": "code",
   "execution_count": 24,
   "metadata": {
    "collapsed": false,
    "scrolled": true
   },
   "outputs": [
    {
     "name": "stdout",
     "output_type": "stream",
     "text": [
      "typedef signed char int8_t;\n",
      "typedef short int int16_t;\n",
      "typedef int int32_t;\n",
      "typedef long int int64_t;\n",
      "typedef unsigned char uint8_t;\n",
      "typedef unsigned short int uint16_t;\n",
      "typedef unsigned int uint32_t;\n",
      "typedef unsigned long int uint64_t;\n",
      "typedef signed char int_least8_t;\n",
      "typedef short int int_least16_t;\n",
      "typedef int int_least32_t;\n",
      "typedef long int int_least64_t;\n",
      "typedef unsigned char uint_least8_t;\n",
      "typedef unsigned short int uint_least16_t;\n",
      "typedef unsigned int uint_least32_t;\n",
      "typedef unsigned long int uint_least64_t;\n",
      "typedef signed char int_fast8_t;\n",
      "typedef long int int_fast16_t;\n",
      "typedef long int int_fast32_t;\n",
      "typedef long int int_fast64_t;\n",
      "typedef unsigned char uint_fast8_t;\n",
      "typedef unsigned long int uint_fast16_t;\n",
      "typedef unsigned long int uint_fast32_t;\n",
      "typedef unsigned long int uint_fast64_t;\n",
      "typedef long int intptr_t;\n",
      "typedef unsigned long int uintptr_t;\n",
      "typedef long int intmax_t;\n",
      "typedef unsigned long int uintmax_t;\n",
      "void access_container_refresh_access_info(App const* app, void* user_data, void (*o_cb)(void* user_data, FfiResult const* result));\n",
      "void access_container_fetch(App const* app, void* user_data, void (*o_cb)(void* user_data, FfiResult const* result, FfiContainerPermissions const* container_perms, uintptr_t container_perms_len));\n",
      "void access_container_get_container_mdata_info(App const* app, char const* name, void* user_data, void (*o_cb)(void* user_data, FfiResult const* result, FfiMDataInfo const* mdata_info));\n",
      "void cipher_opt_new_plaintext(App const* app, void* user_data, void (*o_cb)(void* user_data, FfiResult const* result, CipherOptHandle handle));\n",
      "void cipher_opt_new_symmetric(App const* app, void* user_data, void (*o_cb)(void* user_data, FfiResult const* result, CipherOptHandle handle));\n",
      "void cipher_opt_new_asymmetric(App const* app, EncryptPubKeyHandle peer_encrypt_key_h, void* user_data, void (*o_cb)(void* user_data, FfiResult const* result, CipherOptHandle handle));\n",
      "void cipher_opt_free(App const* app, CipherOptHandle handle, void* user_data, void (*o_cb)(void* user_data, FfiResult const* result));\n",
      "void app_pub_sign_key(App const* app, void* user_data, void (*o_cb)(void* user_data, FfiResult const* result, SignPubKeyHandle handle));\n",
      "void sign_generate_key_pair(App const* app, void* user_data, void (*o_cb)(void* user_data, FfiResult const* result, SignPubKeyHandle pk_h, SignSecKeyHandle sk_h));\n",
      "void sign_pub_key_new(App const* app, SignPublicKey const* data, void* user_data, void (*o_cb)(void* user_data, FfiResult const* result, SignPubKeyHandle handle));\n",
      "void sign_pub_key_get(App const* app, SignPubKeyHandle handle, void* user_data, void (*o_cb)(void* user_data, FfiResult const* result, SignPublicKey const* pub_sign_key));\n",
      "void sign_pub_key_free(App const* app, SignPubKeyHandle handle, void* user_data, void (*o_cb)(void* user_data, FfiResult const* result));\n",
      "void sign_sec_key_new(App const* app, SignSecretKey const* data, void* user_data, void (*o_cb)(void* user_data, FfiResult const* result, SignSecKeyHandle handle));\n",
      "void sign_sec_key_get(App const* app, SignSecKeyHandle handle, void* user_data, void (*o_cb)(void* user_data, FfiResult const* result, SignSecretKey const* pub_sign_key));\n",
      "void sign_sec_key_free(App const* app, SignSecKeyHandle handle, void* user_data, void (*o_cb)(void* user_data, FfiResult const* result));\n",
      "void app_pub_enc_key(App const* app, void* user_data, void (*o_cb)(void* user_data, FfiResult const* result, EncryptPubKeyHandle pk_h));\n",
      "void enc_generate_key_pair(App const* app, void* user_data, void (*o_cb)(void* user_data, FfiResult const* result, EncryptPubKeyHandle pk_h, EncryptSecKeyHandle sk_h));\n",
      "void enc_pub_key_new(App const* app, AsymPublicKey const* data, void* user_data, void (*o_cb)(void* user_data, FfiResult const* result, EncryptPubKeyHandle pk_h));\n",
      "void enc_pub_key_get(App const* app, EncryptPubKeyHandle handle, void* user_data, void (*o_cb)(void* user_data, FfiResult const* result, AsymPublicKey const* pub_enc_key));\n",
      "void enc_pub_key_free(App const* app, EncryptPubKeyHandle handle, void* user_data, void (*o_cb)(void* user_data, FfiResult const* result));\n",
      "void enc_secret_key_new(App const* app, AsymSecretKey const* data, void* user_data, void (*o_cb)(void* user_data, FfiResult const* result, EncryptSecKeyHandle sk_h));\n",
      "void enc_secret_key_get(App const* app, EncryptSecKeyHandle handle, void* user_data, void (*o_cb)(void* user_data, FfiResult const* result, AsymSecretKey const* sec_enc_key));\n",
      "void enc_secret_key_free(App const* app, EncryptSecKeyHandle handle, void* user_data, void (*o_cb)(void* user_data, FfiResult const* result));\n",
      "void sign(App const* app, uint8_t const* data, uintptr_t len, SignSecKeyHandle sign_sk_h, void* user_data, void (*o_cb)(void* user_data, FfiResult const* result, uint8_t const* signed_data, uintptr_t signed_data_len));\n",
      "void verify(App const* app, uint8_t const* signed_data, uintptr_t len, SignPubKeyHandle sign_pk_h, void* user_data, void (*o_cb)(void* user_data, FfiResult const* result, uint8_t const* verified_data, uintptr_t verified_data_len));\n",
      "void encrypt(App const* app, uint8_t const* data, uintptr_t len, EncryptPubKeyHandle pk_h, EncryptSecKeyHandle sk_h, void* user_data, void (*o_cb)(void* user_data, FfiResult const* result, uint8_t const* ciphertext, uintptr_t ciphertext_len));\n",
      "void decrypt(App const* app, uint8_t const* data, uintptr_t len, EncryptPubKeyHandle pk_h, EncryptSecKeyHandle sk_h, void* user_data, void (*o_cb)(void* user_data, FfiResult const* result, uint8_t const* plaintext, uintptr_t plaintext_len));\n",
      "void encrypt_sealed_box(App const* app, uint8_t const* data, uintptr_t len, EncryptPubKeyHandle pk_h, void* user_data, void (*o_cb)(void* user_data, FfiResult const* result, uint8_t const* ciphertext, uintptr_t ciphertext_len));\n",
      "void decrypt_sealed_box(App const* app, uint8_t const* data, uintptr_t len, EncryptPubKeyHandle pk_h, EncryptSecKeyHandle sk_h, void* user_data, void (*o_cb)(void* user_data, FfiResult const* result, uint8_t const* plaintext, uintptr_t plaintext_len));\n",
      "void sha3_hash(uint8_t const* data, uintptr_t len, void* user_data, void (*o_cb)(void* user_data, FfiResult const* result, uint8_t const* hash, uintptr_t hash_len));\n",
      "void generate_nonce(void* user_data, void (*o_cb)(void* user_data, FfiResult const* result, AsymNonce const* nonce));\n",
      "typedef SelfEncryptorWriterHandle SEWriterHandle;\n",
      "typedef SelfEncryptorReaderHandle SEReaderHandle;\n",
      "void idata_new_self_encryptor(App const* app, void* user_data, void (*o_cb)(void* user_data, FfiResult const* result, SEWriterHandle se_h));\n",
      "void idata_write_to_self_encryptor(App const* app, SEWriterHandle se_h, uint8_t const* data, uintptr_t data_len, void* user_data, void (*o_cb)(void* user_data, FfiResult const* result));\n",
      "void idata_close_self_encryptor(App const* app, SEWriterHandle se_h, CipherOptHandle cipher_opt_h, void* user_data, void (*o_cb)(void* user_data, FfiResult const* result, XorNameArray const* name));\n",
      "void idata_fetch_self_encryptor(App const* app, XorNameArray const* name, void* user_data, void (*o_cb)(void* user_data, FfiResult const* result, SEReaderHandle se_h));\n",
      "void idata_serialised_size(App const* app, XorNameArray const* name, void* user_data, void (*o_cb)(void* user_data, FfiResult const* result, uint64_t serialised_size));\n",
      "void idata_size(App const* app, SEReaderHandle se_h, void* user_data, void (*o_cb)(void* user_data, FfiResult const* result, uint64_t size));\n",
      "void idata_read_from_self_encryptor(App const* app, SEReaderHandle se_h, uint64_t from_pos, uint64_t len, void* user_data, void (*o_cb)(void* user_data, FfiResult const* result, uint8_t const* data, uintptr_t data_len));\n",
      "void idata_self_encryptor_writer_free(App const* app, SEWriterHandle handle, void* user_data, void (*o_cb)(void* user_data, FfiResult const* result));\n",
      "void idata_self_encryptor_reader_free(App const* app, SEReaderHandle handle, void* user_data, void (*o_cb)(void* user_data, FfiResult const* result));\n",
      "void encode_auth_req(FfiAuthReq const* req, void* user_data, void (*o_cb)(void* user_data, FfiResult const* result, uint32_t req_id, char const* encoded));\n",
      "void encode_containers_req(FfiContainersReq const* req, void* user_data, void (*o_cb)(void* user_data, FfiResult const* result, uint32_t req_id, char const* encoded));\n",
      "void encode_unregistered_req(uint8_t const* extra_data, uintptr_t extra_data_len, void* user_data, void (*o_cb)(void* user_data, FfiResult const* result, uint32_t req_id, char const* encoded));\n",
      "void encode_share_mdata_req(FfiShareMDataReq const* req, void* user_data, void (*o_cb)(void* user_data, FfiResult const* result, uint32_t req_id, char const* encoded));\n",
      "void decode_ipc_msg(char const* msg, void* user_data, void (*o_auth)(void* user_data, uint32_t req_id, FfiAuthGranted const* auth_granted), void (*o_unregistered)(void* user_data, uint32_t req_id, uint8_t const* serialised_cfg, uintptr_t serialised_cfg_len), void (*o_containers)(void* user_data, uint32_t req_id), void (*o_share_mdata)(void* user_data, uint32_t req_id), void (*o_revoked)(void* user_data), void (*o_err)(void* user_data, FfiResult const* result, uint32_t req_id));\n",
      "void app_init_logging(char const* output_file_name_override, void* user_data, void (*o_cb)(void* user_data, FfiResult const* result));\n",
      "void app_output_log_path(char const* output_file_name, void* user_data, void (*o_cb)(void* user_data, FfiResult const* result, char const* log_path));\n",
      "void mdata_info_new_private(XorNameArray const* name, uint64_t type_tag, SymSecretKey const* secret_key, SymNonce const* nonce, void* user_data, void (*o_cb)(void* user_data, FfiResult const* result, FfiMDataInfo const* mdata_info));\n",
      "void mdata_info_random_public(uint64_t type_tag, void* user_data, void (*o_cb)(void* user_data, FfiResult const* result, FfiMDataInfo const* mdata_info));\n",
      "void mdata_info_random_private(uint64_t type_tag, void* user_data, void (*o_cb)(void* user_data, FfiResult const* result, FfiMDataInfo const* mdata_info));\n",
      "void mdata_info_encrypt_entry_key(FfiMDataInfo const* info, uint8_t const* input, uintptr_t input_len, void* user_data, void (*o_cb)(void* user_data, FfiResult const* result, uint8_t const* enc_entry_key, uintptr_t enc_entry_key_len));\n",
      "void mdata_info_encrypt_entry_value(FfiMDataInfo const* info, uint8_t const* input, uintptr_t input_len, void* user_data, void (*o_cb)(void* user_data, FfiResult const* result, uint8_t const* enc_entry_value, uintptr_t enc_entry_value_len));\n",
      "void mdata_info_decrypt(FfiMDataInfo const* info, uint8_t const* input, uintptr_t input_len, void* user_data, void (*o_cb)(void* user_data, FfiResult const* result, uint8_t const* mdata_info_decrypt, uintptr_t mdata_info_decrypt_len));\n",
      "void mdata_info_serialise(FfiMDataInfo const* info, void* user_data, void (*o_cb)(void* user_data, FfiResult const* result, uint8_t const* encoded, uintptr_t encoded_len));\n",
      "void mdata_info_deserialise(uint8_t const* ptr, uintptr_t len, void* user_data, void (*o_cb)(void* user_data, FfiResult const* result, FfiMDataInfo const* mdata_info));\n",
      "void mdata_put(App const* app, FfiMDataInfo const* info, MDataPermissionsHandle permissions_h, MDataEntriesHandle entries_h, void* user_data, void (*o_cb)(void* user_data, FfiResult const* result));\n",
      "void mdata_get_version(App const* app, FfiMDataInfo const* info, void* user_data, void (*o_cb)(void* user_data, FfiResult const* result, uint64_t version));\n",
      "void mdata_serialised_size(App const* app, FfiMDataInfo const* info, void* user_data, void (*o_cb)(void* user_data, FfiResult const* result, uint64_t serialised_size));\n",
      "void mdata_get_value(App const* app, FfiMDataInfo const* info, uint8_t const* key, uintptr_t key_len, void* user_data, void (*o_cb)(void* user_data, FfiResult const* result, uint8_t const* content, uintptr_t content_len, uint64_t version));\n",
      "void mdata_entries(App const* app, FfiMDataInfo const* info, void* user_data, void (*o_cb)(void* user_data, FfiResult const* result, MDataEntriesHandle entries_h));\n",
      "void mdata_list_keys(App const* app, FfiMDataInfo const* info, void* user_data, void (*o_cb)(void* user_data, FfiResult const* result, FfiMDataKey const* keys, uintptr_t len));\n",
      "void mdata_list_values(App const* app, FfiMDataInfo const* info, void* user_data, void (*o_cb)(void* user_data, FfiResult const* result, FfiMDataValue const* values, uintptr_t len));\n",
      "void mdata_mutate_entries(App const* app, FfiMDataInfo const* info, MDataEntryActionsHandle actions_h, void* user_data, void (*o_cb)(void* user_data, FfiResult const* result));\n",
      "void mdata_list_permissions(App const* app, FfiMDataInfo const* info, void* user_data, void (*o_cb)(void* user_data, FfiResult const* result, MDataPermissionsHandle perm_h));\n",
      "void mdata_list_user_permissions(App const* app, FfiMDataInfo const* info, SignPubKeyHandle user_h, void* user_data, void (*o_cb)(void* user_data, FfiResult const* result, FfiPermissionSet const* perm_set));\n",
      "void mdata_set_user_permissions(App const* app, FfiMDataInfo const* info, SignPubKeyHandle user_h, FfiPermissionSet const* permission_set, uint64_t version, void* user_data, void (*o_cb)(void* user_data, FfiResult const* result));\n",
      "void mdata_del_user_permissions(App const* app, FfiMDataInfo const* info, SignPubKeyHandle user_h, uint64_t version, void* user_data, void (*o_cb)(void* user_data, FfiResult const* result));\n",
      "void mdata_entries_new(App const* app, void* user_data, void (*o_cb)(void* user_data, FfiResult const* result, MDataEntriesHandle entries_h));\n",
      "void mdata_entries_insert(App const* app, MDataEntriesHandle entries_h, uint8_t const* key, uintptr_t key_len, uint8_t const* value, uintptr_t value_len, void* user_data, void (*o_cb)(void* user_data, FfiResult const* result));\n",
      "void mdata_entries_len(App const* app, MDataEntriesHandle entries_h, void* user_data, void (*o_cb)(void* user_data, FfiResult const* result, uintptr_t len));\n",
      "void mdata_entries_get(App const* app, MDataEntriesHandle entries_h, uint8_t const* key, uintptr_t key_len, void* user_data, void (*o_cb)(void* user_data, FfiResult const* result, uint8_t const* content, uintptr_t content_len, uint64_t version));\n",
      "void mdata_list_entries(App const* app, MDataEntriesHandle entries_h, void* user_data, void (*o_cb)(void* user_data, FfiResult const* result, FfiMDataEntry const* entries, uintptr_t len));\n",
      "void mdata_entries_free(App const* app, MDataEntriesHandle entries_h, void* user_data, void (*o_cb)(void* user_data, FfiResult const* result));\n",
      "void mdata_entry_actions_new(App const* app, void* user_data, void (*o_cb)(void* user_data, FfiResult const* result, MDataEntryActionsHandle entry_actions_h));\n",
      "void mdata_entry_actions_insert(App const* app, MDataEntryActionsHandle actions_h, uint8_t const* key, uintptr_t key_len, uint8_t const* value, uintptr_t value_len, void* user_data, void (*o_cb)(void* user_data, FfiResult const* result));\n",
      "void mdata_entry_actions_update(App const* app, MDataEntryActionsHandle actions_h, uint8_t const* key, uintptr_t key_len, uint8_t const* value, uintptr_t value_len, uint64_t entry_version, void* user_data, void (*o_cb)(void* user_data, FfiResult const* result));\n",
      "void mdata_entry_actions_delete(App const* app, MDataEntryActionsHandle actions_h, uint8_t const* key, uintptr_t key_len, uint64_t entry_version, void* user_data, void (*o_cb)(void* user_data, FfiResult const* result));\n",
      "void mdata_entry_actions_free(App const* app, MDataEntryActionsHandle actions_h, void* user_data, void (*o_cb)(void* user_data, FfiResult const* result));\n",
      "void mdata_encode_metadata(MetadataResponse const* metadata, void* user_data, void (*o_cb)(void* user_data, FfiResult const* result, uint8_t const* encoded, uintptr_t encoded_len));\n",
      "typedef enum MDataAction {\n",
      " MDataAction_Insert,\n",
      " MDataAction_Update,\n",
      " MDataAction_Delete,\n",
      " MDataAction_ManagePermissions,\n",
      "} MDataAction;\n",
      "typedef struct UserPermissionSet {\n",
      " SignPubKeyHandle user_h;\n",
      " FfiPermissionSet perm_set;\n",
      "} UserPermissionSet;\n",
      "void mdata_permissions_new(App const* app, void* user_data, void (*o_cb)(void* user_data, FfiResult const* result, MDataPermissionsHandle perm_h));\n",
      "void mdata_permissions_len(App const* app, MDataPermissionsHandle permissions_h, void* user_data, void (*o_cb)(void* user_data, FfiResult const* result, uintptr_t size));\n",
      "void mdata_permissions_get(App const* app, MDataPermissionsHandle permissions_h, SignPubKeyHandle user_h, void* user_data, void (*o_cb)(void* user_data, FfiResult const* result, FfiPermissionSet const* perm_set));\n",
      "void mdata_list_permission_sets(App const* app, MDataPermissionsHandle permissions_h, void* user_data, void (*o_cb)(void* user_data, FfiResult const* result, UserPermissionSet const* user_perm_sets, uintptr_t len));\n",
      "void mdata_permissions_insert(App const* app, MDataPermissionsHandle permissions_h, SignPubKeyHandle user_h, FfiPermissionSet const* permission_set, void* user_data, void (*o_cb)(void* user_data, FfiResult const* result));\n",
      "void mdata_permissions_free(App const* app, MDataPermissionsHandle permissions_h, void* user_data, void (*o_cb)(void* user_data, FfiResult const* result));\n",
      "void dir_fetch_file(App const* app, FfiMDataInfo const* parent_info, char const* file_name, void* user_data, void (*o_cb)(void* user_data, FfiResult const* result, File const* file, uint64_t version));\n",
      "void dir_insert_file(App const* app, FfiMDataInfo const* parent_info, char const* file_name, File const* file, void* user_data, void (*o_cb)(void* user_data, FfiResult const* result));\n",
      "void dir_update_file(App const* app, FfiMDataInfo const* parent_info, char const* file_name, File const* file, uint64_t version, void* user_data, void (*o_cb)(void* user_data, FfiResult const* result));\n",
      "void dir_delete_file(App const* app, FfiMDataInfo const* parent_info, char const* file_name, uint64_t version, void* user_data, void (*o_cb)(void* user_data, FfiResult const* result));\n",
      "void file_open(App const* app, FfiMDataInfo const* parent_info, File const* file, uint64_t open_mode, void* user_data, void (*o_cb)(void* user_data, FfiResult const* result, FileContextHandle file_h));\n",
      "void file_size(App const* app, FileContextHandle file_h, void* user_data, void (*o_cb)(void* user_data, FfiResult const* result, uint64_t size));\n",
      "void file_read(App const* app, FileContextHandle file_h, uint64_t position, uint64_t len, void* user_data, void (*o_cb)(void* user_data, FfiResult const* result, uint8_t const* data, uintptr_t data_len));\n",
      "void file_write(App const* app, FileContextHandle file_h, uint8_t const* data, uintptr_t data_len, void* user_data, void (*o_cb)(void* user_data, FfiResult const* result));\n",
      "void file_close(App const* app, FileContextHandle file_h, void* user_data, void (*o_cb)(void* user_data, FfiResult const* result, File const* file));\n",
      "void app_unregistered(uint8_t const* bootstrap_config, uintptr_t bootstrap_config_len, void* user_data, void (*o_disconnect_notifier_cb)(void* user_data), void (*o_cb)(void* user_data, FfiResult const* result, App* app));\n",
      "void app_registered(char const* app_id, FfiAuthGranted const* auth_granted, void* user_data, void (*o_disconnect_notifier_cb)(void* user_data), void (*o_cb)(void* user_data, FfiResult const* result, App* app));\n",
      "void app_reconnect(App* app, void* user_data, void (*o_cb)(void* user_data, FfiResult const* result));\n",
      "void app_account_info(App* app, void* user_data, void (*o_cb)(void* user_data, FfiResult const* result, FfiAccountInfo const* account_info));\n",
      "void app_exe_file_stem(void* user_data, void (*o_cb)(void* user_data, FfiResult const* result, char const* filename));\n",
      "void app_set_additional_search_path(char const* new_path, void* user_data, void (*o_cb)(void* user_data, FfiResult const* result));\n",
      "void app_free(App* app);\n",
      "void app_reset_object_cache(App* app, void* user_data, void (*o_cb)(void* user_data, FfiResult const* result));\n",
      "void app_container_name(char const* app_id, void* user_data, void (*o_cb)(void* user_data, FfiResult const* result, char const* container_name));\n",
      "\n"
     ]
    }
   ],
   "source": [
    "print(includes)"
   ]
  },
  {
   "cell_type": "code",
   "execution_count": null,
   "metadata": {
    "collapsed": true
   },
   "outputs": [],
   "source": []
  },
  {
   "cell_type": "code",
   "execution_count": null,
   "metadata": {
    "collapsed": true
   },
   "outputs": [],
   "source": []
  }
 ],
 "metadata": {
  "kernelspec": {
   "display_name": "Python 3",
   "language": "python",
   "name": "python3"
  },
  "language_info": {
   "codemirror_mode": {
    "name": "ipython",
    "version": 3
   },
   "file_extension": ".py",
   "mimetype": "text/x-python",
   "name": "python",
   "nbconvert_exporter": "python",
   "pygments_lexer": "ipython3",
   "version": "3.4.5"
  }
 },
 "nbformat": 4,
 "nbformat_minor": 2
}
