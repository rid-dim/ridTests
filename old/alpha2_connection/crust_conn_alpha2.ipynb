{
 "cells": [
  {
   "cell_type": "markdown",
   "metadata": {},
   "source": [
    "starting out like the other notebooks ;-)"
   ]
  },
  {
   "cell_type": "code",
   "execution_count": 1,
   "metadata": {
    "collapsed": true
   },
   "outputs": [],
   "source": [
    "from cffi import FFI\n",
    "ffi = FFI()"
   ]
  },
  {
   "cell_type": "markdown",
   "metadata": {},
   "source": [
    "#### for a first connection to the alpha2 network we only need the FfiResult-Struct (and a fake-definition for the authenticator)"
   ]
  },
  {
   "cell_type": "code",
   "execution_count": 2,
   "metadata": {
    "collapsed": false
   },
   "outputs": [],
   "source": [
    "ffi.cdef('''\n",
    "typedef int int32_t;\n",
    "typedef struct {\n",
    "    int32_t error_code;\n",
    "    char* description;\n",
    "} FfiResult;\n",
    "typedef struct {\n",
    "    void* core_tx;\n",
    "    void* _core_joiner;\n",
    "} Authenticator;\n",
    "''')"
   ]
  },
  {
   "cell_type": "markdown",
   "metadata": {},
   "source": [
    "and for our connection test the stem function + login/create account functions"
   ]
  },
  {
   "cell_type": "code",
   "execution_count": 3,
   "metadata": {
    "collapsed": false
   },
   "outputs": [],
   "source": [
    "ffi.cdef('''\n",
    "void app_exe_file_stem(void* user_data, void(*)(void*, FfiResult*, char*));\n",
    "void login(char* account_locator, char* account_password, void* user_data, void(*)(void*), void(*)(void*, FfiResult*, Authenticator*));\n",
    "void create_acc(char* account_locator, char* account_password, char* invitation, void* user_data, void(*)(void*), void(*)(void*, FfiResult*, Authenticator*));\n",
    "''')"
   ]
  },
  {
   "cell_type": "code",
   "execution_count": 4,
   "metadata": {
    "collapsed": true
   },
   "outputs": [],
   "source": [
    "class Auth:\n",
    "    def __init__(self,\n",
    "            name='noAuth',\n",
    "            version='0.0.0',\n",
    "            vendor='rid',\n",
    "            libLocation= '../compiled_binaries/libsafe_authenticator.so',\n",
    "            addr='http://localhost'):\n",
    "        self.name = name\n",
    "        self.version = version\n",
    "        self.vendor = vendor\n",
    "        self.url = addr\n",
    "        self.lib = ffi.dlopen(libLocation)\n",
    "        \n",
    "    def defaultFfiResult(self, result, actionDescription):\n",
    "    \n",
    "        if result.error_code == 0:\n",
    "            print('successfully ' + actionDescription)\n",
    "        else:\n",
    "            print('an Error occured - Error Code: ' + str(result.error_code))\n",
    "            print('Error description: ' + str(ffi.string(result.description)))\n",
    "            \n",
    "    def toByteIfString(self, parameter, encoding):\n",
    "        if type(parameter) == str:\n",
    "            return parameter.encode()\n",
    "        else:\n",
    "            return parameter"
   ]
  },
  {
   "cell_type": "markdown",
   "metadata": {},
   "source": [
    "#### the login function needs to know at least the two first arguments to work"
   ]
  },
  {
   "cell_type": "code",
   "execution_count": 5,
   "metadata": {
    "collapsed": true
   },
   "outputs": [],
   "source": [
    "def login(self,account_locator,account_password,user_data=None,disconnect_notifier_cb=None,cb=None,encoding='utf-8'):\n",
    "    ''' string/bytes, string/bytes, [any], [function], [function], [encoding]\n",
    "        char* account_locator, char* account_password, void* user_data\n",
    "        \n",
    "        > return values of the callback functions:\n",
    "        disconnect_notifier_cb - void* user_data\n",
    "        cb - void* user_data, FfiResult* result, Authenticator* authenticator\n",
    "    ''' \n",
    "    \n",
    "    @ffi.callback(\"void(void*)\")\n",
    "    def o_disconnect_notifier_cb(user_data):\n",
    "        \n",
    "        if disconnect_notifier_cb:\n",
    "            disconnect_notifier_cb(user_data)\n",
    "        else:\n",
    "            pass\n",
    "    \n",
    "    @ffi.callback(\"void(void*,FfiResult*,Authenticator*)\")\n",
    "    def o_cb(user_data,result,authenticator):\n",
    "        \n",
    "        if cb:\n",
    "            cb(user_data,result,authenticator)\n",
    "        else:\n",
    "            self.defaultFfiResult(result,'logged into the SAFE Network')\n",
    "    \n",
    "    account_locator = ffi.new('char[]',self.toByteIfString(account_locator,encoding))\n",
    "    password = ffi.new('char[]',self.toByteIfString(account_password,encoding))\n",
    "    if user_data:\n",
    "        userData = ffi.new_handle(user_data)\n",
    "    else:\n",
    "        userData = ffi.NULL\n",
    "    \n",
    "    self.lib.login(account_locator,password,userData,o_disconnect_notifier_cb,o_cb)\n",
    "    \n",
    "    \n",
    "Auth.login = login\n",
    "del(login)"
   ]
  },
  {
   "cell_type": "markdown",
   "metadata": {},
   "source": [
    "parameters for account creation\n",
    "\n",
    "account_locator | account_password | invitation | user_data\n",
    "--- | --- | --- | ---\n",
    "important; your first login string | important; your second login string | random string in mock routing | no clue\n"
   ]
  },
  {
   "cell_type": "code",
   "execution_count": 6,
   "metadata": {
    "collapsed": true
   },
   "outputs": [],
   "source": [
    "def create_acc(self,account_locator,account_password,invitation,user_data=None,disconnect_notifier_cb=None,cb=None,encoding='utf-8'):\n",
    "    ''' string/bytes, string/bytes, string/bytes, [any], [function], [function], [encoding]\n",
    "        char* account_locator, char* account_password, char* invitation, void* user_data\n",
    "        \n",
    "        > return values of the callback functions:\n",
    "        disconnect_notifier_cb - void* user_data\n",
    "        cb - void* user_data, FfiResult* result, Authenticator* authenticator\n",
    "    ''' \n",
    "    \n",
    "    @ffi.callback(\"void(void*)\")\n",
    "    def o_disconnect_notifier_cb(user_data):\n",
    "        \n",
    "        if disconnect_notifier_cb:\n",
    "            disconnect_notifier_cb(user_data)\n",
    "        else:\n",
    "            pass\n",
    "    \n",
    "    \n",
    "    @ffi.callback(\"void(void*,FfiResult*,Authenticator*)\")\n",
    "    def o_cb(user_data,result,authenticator):\n",
    "        \n",
    "        if cb:\n",
    "            cb(user_data,result,authenticator)\n",
    "        else:\n",
    "            self.defaultFfiResult(result,'created new SAFE Network Account')\n",
    "    \n",
    "    account_locator = ffi.new('char[]',self.toByteIfString(account_locator,encoding))\n",
    "    password = ffi.new('char[]',self.toByteIfString(account_password,encoding))\n",
    "    invitation = ffi.new('char[]',self.toByteIfString(invitation,encoding))\n",
    "    if user_data:\n",
    "        userData = ffi.new_handle(user_data)\n",
    "    else:\n",
    "        userData = ffi.NULL\n",
    "    \n",
    "    self.lib.create_acc(account_locator,password,invitation,userData,o_disconnect_notifier_cb,o_cb)\n",
    "    \n",
    "    \n",
    "Auth.create_acc = create_acc\n",
    "del(create_acc)"
   ]
  },
  {
   "cell_type": "markdown",
   "metadata": {},
   "source": [
    "since the stem-function uses a callback-function to give back our crust stem name here we define one that will print the resulting name"
   ]
  },
  {
   "cell_type": "code",
   "execution_count": 7,
   "metadata": {
    "collapsed": false
   },
   "outputs": [],
   "source": [
    "userData=None\n",
    "myResult=None\n",
    "\n",
    "\n",
    "@ffi.callback(\"void(void*,FfiResult*, char*)\")\n",
    "def stem(user_data, result, name):\n",
    "    global userData, myResult\n",
    "    \n",
    "    userData = user_data\n",
    "    myResult=result\n",
    "    print(ffi.string(name))"
   ]
  },
  {
   "cell_type": "markdown",
   "metadata": {},
   "source": [
    "---"
   ]
  },
  {
   "cell_type": "code",
   "execution_count": 8,
   "metadata": {
    "collapsed": false
   },
   "outputs": [],
   "source": [
    "au=Auth(libLocation='../compiled_binaries/libsafe_app.so')"
   ]
  },
  {
   "cell_type": "markdown",
   "metadata": {},
   "source": [
    "---"
   ]
  },
  {
   "cell_type": "code",
   "execution_count": 9,
   "metadata": {
    "collapsed": false,
    "scrolled": true
   },
   "outputs": [
    {
     "name": "stdout",
     "output_type": "stream",
     "text": [
      "b'python3'\n"
     ]
    }
   ],
   "source": [
    "au.lib.app_exe_file_stem(ffi.NULL,stem)"
   ]
  },
  {
   "cell_type": "markdown",
   "metadata": {},
   "source": [
    "---"
   ]
  },
  {
   "cell_type": "markdown",
   "metadata": {},
   "source": [
    "so i would assume our crust config needs to be called [python3.crust.config in reference to nikitas comment in the forum](https://forum.safedev.org/t/how-to-use-safe-client-libs-in-python/1029/38)\n",
    "\n",
    "I did add the file in the folder where the \\*.so-library is (and i tried adding it to the script folder here too) but seems like i'm still doing something wrong ... "
   ]
  },
  {
   "cell_type": "code",
   "execution_count": 10,
   "metadata": {
    "collapsed": true
   },
   "outputs": [],
   "source": [
    "my=Auth()"
   ]
  },
  {
   "cell_type": "code",
   "execution_count": null,
   "metadata": {
    "collapsed": true
   },
   "outputs": [],
   "source": []
  },
  {
   "cell_type": "code",
   "execution_count": 11,
   "metadata": {
    "collapsed": false
   },
   "outputs": [
    {
     "name": "stdout",
     "output_type": "stream",
     "text": [
      "········\n",
      "········\n",
      "an Error occured - Error Code: -2000\n",
      "Error description: b'Core error: Unexpected: Could not connect to the SAFE Network'\n"
     ]
    }
   ],
   "source": [
    "import getpass\n",
    "\n",
    "username=getpass.getpass()\n",
    "\n",
    "key=getpass.getpass()\n",
    "\n",
    "my.login(username,key)"
   ]
  },
  {
   "cell_type": "code",
   "execution_count": null,
   "metadata": {
    "collapsed": true
   },
   "outputs": [],
   "source": []
  },
  {
   "cell_type": "code",
   "execution_count": null,
   "metadata": {
    "collapsed": true
   },
   "outputs": [],
   "source": []
  }
 ],
 "metadata": {
  "kernelspec": {
   "display_name": "Python 3",
   "language": "python",
   "name": "python3"
  },
  "language_info": {
   "codemirror_mode": {
    "name": "ipython",
    "version": 3
   },
   "file_extension": ".py",
   "mimetype": "text/x-python",
   "name": "python",
   "nbconvert_exporter": "python",
   "pygments_lexer": "ipython3",
   "version": "3.4.5"
  }
 },
 "nbformat": 4,
 "nbformat_minor": 2
}
